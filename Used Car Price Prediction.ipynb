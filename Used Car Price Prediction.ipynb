{
  "cells": [
    {
      "cell_type": "markdown",
      "metadata": {
        "id": "_iffvacMmWAe"
      },
      "source": [
        "#### Import libraries"
      ]
    },
    {
      "cell_type": "code",
      "execution_count": 148,
      "metadata": {
        "id": "tmSaCmtWmWAg"
      },
      "outputs": [],
      "source": [
        "import pandas as pd\n",
        "import numpy as np\n",
        "import seaborn as sns\n",
        "import matplotlib.pyplot as plt\n",
        "import re"
      ]
    },
    {
      "cell_type": "code",
      "execution_count": 149,
      "metadata": {
        "id": "RVdBx5gWmWAh"
      },
      "outputs": [],
      "source": [
        "df = pd.read_csv(\"uae_used_cars_10k.csv\")"
      ]
    },
    {
      "cell_type": "code",
      "execution_count": 150,
      "metadata": {
        "colab": {
          "base_uri": "https://localhost:8080/",
          "height": 538
        },
        "id": "RhqjnmgHmWAi",
        "outputId": "9f219029-1910-4295-f42a-ef4e25fdd59b"
      },
      "outputs": [
        {
          "data": {
            "text/html": [
              "<div>\n",
              "<style scoped>\n",
              "    .dataframe tbody tr th:only-of-type {\n",
              "        vertical-align: middle;\n",
              "    }\n",
              "\n",
              "    .dataframe tbody tr th {\n",
              "        vertical-align: top;\n",
              "    }\n",
              "\n",
              "    .dataframe thead th {\n",
              "        text-align: right;\n",
              "    }\n",
              "</style>\n",
              "<table border=\"1\" class=\"dataframe\">\n",
              "  <thead>\n",
              "    <tr style=\"text-align: right;\">\n",
              "      <th></th>\n",
              "      <th>Make</th>\n",
              "      <th>Model</th>\n",
              "      <th>Year</th>\n",
              "      <th>Price</th>\n",
              "      <th>Mileage</th>\n",
              "      <th>Body Type</th>\n",
              "      <th>Cylinders</th>\n",
              "      <th>Transmission</th>\n",
              "      <th>Fuel Type</th>\n",
              "      <th>Color</th>\n",
              "      <th>Location</th>\n",
              "      <th>Description</th>\n",
              "    </tr>\n",
              "  </thead>\n",
              "  <tbody>\n",
              "    <tr>\n",
              "      <th>0</th>\n",
              "      <td>toyota</td>\n",
              "      <td>camry</td>\n",
              "      <td>2016</td>\n",
              "      <td>47819</td>\n",
              "      <td>156500</td>\n",
              "      <td>Sedan</td>\n",
              "      <td>4</td>\n",
              "      <td>Automatic Transmission</td>\n",
              "      <td>Gasoline</td>\n",
              "      <td>Black</td>\n",
              "      <td>Dubai</td>\n",
              "      <td>2016 toyota camry with Rear camera, Leather se...</td>\n",
              "    </tr>\n",
              "    <tr>\n",
              "      <th>1</th>\n",
              "      <td>kia</td>\n",
              "      <td>sorento</td>\n",
              "      <td>2013</td>\n",
              "      <td>61250</td>\n",
              "      <td>169543</td>\n",
              "      <td>SUV</td>\n",
              "      <td>4</td>\n",
              "      <td>Automatic Transmission</td>\n",
              "      <td>Gasoline</td>\n",
              "      <td>Grey</td>\n",
              "      <td>Abu Dhabi</td>\n",
              "      <td>2013 kia sorento with Sunroof, Adaptive cruise...</td>\n",
              "    </tr>\n",
              "    <tr>\n",
              "      <th>2</th>\n",
              "      <td>mini</td>\n",
              "      <td>cooper</td>\n",
              "      <td>2023</td>\n",
              "      <td>31861</td>\n",
              "      <td>221583</td>\n",
              "      <td>Soft Top Convertible</td>\n",
              "      <td>4</td>\n",
              "      <td>Automatic Transmission</td>\n",
              "      <td>Gasoline</td>\n",
              "      <td>Grey</td>\n",
              "      <td>Dubai</td>\n",
              "      <td>2023 mini cooper with Adaptive cruise control,...</td>\n",
              "    </tr>\n",
              "    <tr>\n",
              "      <th>3</th>\n",
              "      <td>nissan</td>\n",
              "      <td>altima</td>\n",
              "      <td>2016</td>\n",
              "      <td>110322</td>\n",
              "      <td>69754</td>\n",
              "      <td>Sedan</td>\n",
              "      <td>4</td>\n",
              "      <td>Automatic Transmission</td>\n",
              "      <td>Gasoline</td>\n",
              "      <td>Red</td>\n",
              "      <td>Dubai</td>\n",
              "      <td>2016 nissan altima with Rear camera, Adaptive ...</td>\n",
              "    </tr>\n",
              "    <tr>\n",
              "      <th>4</th>\n",
              "      <td>toyota</td>\n",
              "      <td>land-cruiser-76-series</td>\n",
              "      <td>2020</td>\n",
              "      <td>139994</td>\n",
              "      <td>71399</td>\n",
              "      <td>Pick Up Truck</td>\n",
              "      <td>4</td>\n",
              "      <td>Manual Transmission</td>\n",
              "      <td>Gasoline</td>\n",
              "      <td>White</td>\n",
              "      <td>Dubai</td>\n",
              "      <td>2020 toyota land-cruiser-76-series with Adapti...</td>\n",
              "    </tr>\n",
              "  </tbody>\n",
              "</table>\n",
              "</div>"
            ],
            "text/plain": [
              "     Make                   Model  Year   Price  Mileage  \\\n",
              "0  toyota                   camry  2016   47819   156500   \n",
              "1     kia                 sorento  2013   61250   169543   \n",
              "2    mini                  cooper  2023   31861   221583   \n",
              "3  nissan                  altima  2016  110322    69754   \n",
              "4  toyota  land-cruiser-76-series  2020  139994    71399   \n",
              "\n",
              "              Body Type Cylinders            Transmission Fuel Type  Color  \\\n",
              "0                 Sedan         4  Automatic Transmission  Gasoline  Black   \n",
              "1                   SUV         4  Automatic Transmission  Gasoline   Grey   \n",
              "2  Soft Top Convertible         4  Automatic Transmission  Gasoline   Grey   \n",
              "3                 Sedan         4  Automatic Transmission  Gasoline    Red   \n",
              "4         Pick Up Truck         4     Manual Transmission  Gasoline  White   \n",
              "\n",
              "     Location                                        Description  \n",
              "0       Dubai  2016 toyota camry with Rear camera, Leather se...  \n",
              "1   Abu Dhabi  2013 kia sorento with Sunroof, Adaptive cruise...  \n",
              "2       Dubai  2023 mini cooper with Adaptive cruise control,...  \n",
              "3       Dubai  2016 nissan altima with Rear camera, Adaptive ...  \n",
              "4       Dubai  2020 toyota land-cruiser-76-series with Adapti...  "
            ]
          },
          "execution_count": 150,
          "metadata": {},
          "output_type": "execute_result"
        }
      ],
      "source": [
        "df.head()"
      ]
    },
    {
      "cell_type": "markdown",
      "metadata": {
        "id": "brMIx0tkmWAj"
      },
      "source": [
        "##### 1- remove null values"
      ]
    },
    {
      "cell_type": "code",
      "execution_count": 151,
      "metadata": {
        "colab": {
          "base_uri": "https://localhost:8080/",
          "height": 460
        },
        "id": "OQKMizIMmWAj",
        "outputId": "761b4851-6021-48a4-8e78-17632ea3a348"
      },
      "outputs": [
        {
          "data": {
            "text/plain": [
              "Make              0\n",
              "Model             0\n",
              "Year              0\n",
              "Price             0\n",
              "Mileage           0\n",
              "Body Type         0\n",
              "Cylinders       105\n",
              "Transmission      0\n",
              "Fuel Type         0\n",
              "Color             0\n",
              "Location          0\n",
              "Description       0\n",
              "dtype: int64"
            ]
          },
          "execution_count": 151,
          "metadata": {},
          "output_type": "execute_result"
        }
      ],
      "source": [
        "df.isna().sum()"
      ]
    },
    {
      "cell_type": "code",
      "execution_count": 152,
      "metadata": {
        "colab": {
          "base_uri": "https://localhost:8080/"
        },
        "id": "AA6guTOcmWAj",
        "outputId": "0bca426a-051b-42c4-e343-c08dc4ed8028"
      },
      "outputs": [
        {
          "data": {
            "text/plain": [
              "(10000, 12)"
            ]
          },
          "execution_count": 152,
          "metadata": {},
          "output_type": "execute_result"
        }
      ],
      "source": [
        "df.shape"
      ]
    },
    {
      "cell_type": "code",
      "execution_count": 153,
      "metadata": {
        "id": "QSkWSDKUmWAj"
      },
      "outputs": [],
      "source": [
        "df= df.dropna()"
      ]
    },
    {
      "cell_type": "code",
      "execution_count": 154,
      "metadata": {
        "colab": {
          "base_uri": "https://localhost:8080/",
          "height": 460
        },
        "id": "Tlkc8CB9mWAk",
        "outputId": "13455f23-8801-47f1-9b26-2e463bb89ced"
      },
      "outputs": [
        {
          "data": {
            "text/plain": [
              "Make            0\n",
              "Model           0\n",
              "Year            0\n",
              "Price           0\n",
              "Mileage         0\n",
              "Body Type       0\n",
              "Cylinders       0\n",
              "Transmission    0\n",
              "Fuel Type       0\n",
              "Color           0\n",
              "Location        0\n",
              "Description     0\n",
              "dtype: int64"
            ]
          },
          "execution_count": 154,
          "metadata": {},
          "output_type": "execute_result"
        }
      ],
      "source": [
        "df.isna().sum()"
      ]
    },
    {
      "cell_type": "code",
      "execution_count": 155,
      "metadata": {
        "colab": {
          "base_uri": "https://localhost:8080/"
        },
        "id": "CuDKEgA8mWAk",
        "outputId": "63e39ac4-9155-4a63-fd81-485047126574"
      },
      "outputs": [
        {
          "data": {
            "text/plain": [
              "(9895, 12)"
            ]
          },
          "execution_count": 155,
          "metadata": {},
          "output_type": "execute_result"
        }
      ],
      "source": [
        "df.shape"
      ]
    },
    {
      "cell_type": "markdown",
      "metadata": {
        "id": "-APLnZ_umWAk"
      },
      "source": [
        "##### 2- check duplicates"
      ]
    },
    {
      "cell_type": "code",
      "execution_count": 156,
      "metadata": {
        "colab": {
          "base_uri": "https://localhost:8080/"
        },
        "id": "iumnIvOOmWAk",
        "outputId": "4ed4cf1c-80da-4115-c0e4-527547211e0a"
      },
      "outputs": [
        {
          "data": {
            "text/plain": [
              "0"
            ]
          },
          "execution_count": 156,
          "metadata": {},
          "output_type": "execute_result"
        }
      ],
      "source": [
        "df.duplicated().sum()"
      ]
    },
    {
      "cell_type": "markdown",
      "metadata": {
        "id": "-KVAxyramWAl"
      },
      "source": [
        "##### 3- Outlier detection\n"
      ]
    },
    {
      "cell_type": "code",
      "execution_count": 157,
      "metadata": {
        "colab": {
          "base_uri": "https://localhost:8080/"
        },
        "id": "Tc2-S_bPmWAl",
        "outputId": "1024a2ee-58c8-4c2d-caf4-c02330186f0c"
      },
      "outputs": [
        {
          "data": {
            "text/plain": [
              "245334.4193026781"
            ]
          },
          "execution_count": 157,
          "metadata": {},
          "output_type": "execute_result"
        }
      ],
      "source": [
        "df[\"Price\"].mean()"
      ]
    },
    {
      "cell_type": "code",
      "execution_count": 158,
      "metadata": {
        "colab": {
          "base_uri": "https://localhost:8080/"
        },
        "id": "lFC4JXG-mWAl",
        "outputId": "be7e3689-2a4f-4643-8b35-06f7951cd35b"
      },
      "outputs": [
        {
          "data": {
            "text/plain": [
              "101285.0"
            ]
          },
          "execution_count": 158,
          "metadata": {},
          "output_type": "execute_result"
        }
      ],
      "source": [
        "df[\"Price\"].median()"
      ]
    },
    {
      "cell_type": "markdown",
      "metadata": {
        "id": "7e1MFoINmWAl"
      },
      "source": [
        "Note: The outliers here are normal since we have some expensive/luxuries cars"
      ]
    },
    {
      "cell_type": "code",
      "execution_count": 159,
      "metadata": {
        "colab": {
          "base_uri": "https://localhost:8080/",
          "height": 186
        },
        "id": "82_Wx3mRmWAl",
        "outputId": "d48e7322-6594-4888-eeae-2cde1acbc9e6"
      },
      "outputs": [
        {
          "data": {
            "text/plain": [
              "<bound method Series.unique of 0              toyota\n",
              "1                 kia\n",
              "2                mini\n",
              "3              nissan\n",
              "4              toyota\n",
              "            ...      \n",
              "9994    mercedes-benz\n",
              "9996             audi\n",
              "9997           toyota\n",
              "9998          peugeot\n",
              "9999    mercedes-benz\n",
              "Name: Make, Length: 9895, dtype: object>"
            ]
          },
          "execution_count": 159,
          "metadata": {},
          "output_type": "execute_result"
        }
      ],
      "source": [
        "df[\"Make\"].unique"
      ]
    },
    {
      "cell_type": "markdown",
      "metadata": {
        "id": "F3n3HGKvmWAl"
      },
      "source": [
        "#### 4. Feature Engineering"
      ]
    },
    {
      "cell_type": "markdown",
      "metadata": {
        "id": "lM0e0gpUmWAm"
      },
      "source": [
        "##### - Create Additional Features"
      ]
    },
    {
      "cell_type": "markdown",
      "metadata": {
        "id": "MWdQsoxGmWAm"
      },
      "source": [
        "4.1- Mileage: Distance driven in miles"
      ]
    },
    {
      "cell_type": "code",
      "execution_count": 160,
      "metadata": {
        "colab": {
          "base_uri": "https://localhost:8080/",
          "height": 458
        },
        "id": "fcv01uNImWAm",
        "outputId": "dbe79ce5-82ad-4b69-f725-2be52ef4cac9"
      },
      "outputs": [
        {
          "data": {
            "text/plain": [
              "0       156500\n",
              "1       169543\n",
              "2       221583\n",
              "3        69754\n",
              "4        71399\n",
              "         ...  \n",
              "9994    226578\n",
              "9996    258150\n",
              "9997     80525\n",
              "9998    288305\n",
              "9999    283648\n",
              "Name: Mileage, Length: 9895, dtype: int64"
            ]
          },
          "execution_count": 160,
          "metadata": {},
          "output_type": "execute_result"
        }
      ],
      "source": [
        "df[\"Mileage\"]"
      ]
    },
    {
      "cell_type": "code",
      "execution_count": 161,
      "metadata": {
        "colab": {
          "base_uri": "https://localhost:8080/",
          "height": 458
        },
        "id": "aKbmyC_5mWAm",
        "outputId": "09dc5e84-2f78-4d01-ca5a-97c3ab830ca7"
      },
      "outputs": [
        {
          "data": {
            "text/plain": [
              "0       251861.71000\n",
              "1       272852.33162\n",
              "2       356602.38522\n",
              "3       112257.90236\n",
              "4       114905.26666\n",
              "            ...     \n",
              "9994    364641.03852\n",
              "9996    415451.12100\n",
              "9997    129592.10350\n",
              "9998    463980.76870\n",
              "9999    456486.07232\n",
              "Name: Mileage, Length: 9895, dtype: float64"
            ]
          },
          "execution_count": 161,
          "metadata": {},
          "output_type": "execute_result"
        }
      ],
      "source": [
        "# convert Mileage to KM (1 mile = 1.60934 km)\n",
        "\n",
        "df['Mileage'] = df['Mileage'] * 1.60934\n",
        "\n",
        "df[\"Mileage\"]"
      ]
    },
    {
      "cell_type": "markdown",
      "metadata": {
        "id": "6b6aYQBfmWAm"
      },
      "source": [
        "4.2- Price: Sale price in AED"
      ]
    },
    {
      "cell_type": "code",
      "execution_count": 162,
      "metadata": {
        "colab": {
          "base_uri": "https://localhost:8080/",
          "height": 458
        },
        "id": "jl-9PNFjmWAm",
        "outputId": "bbbb9e36-0162-41af-c632-f0c19fdd460c"
      },
      "outputs": [
        {
          "data": {
            "text/plain": [
              "0        47819\n",
              "1        61250\n",
              "2        31861\n",
              "3       110322\n",
              "4       139994\n",
              "         ...  \n",
              "9994    219883\n",
              "9996     80053\n",
              "9997    183381\n",
              "9998     40876\n",
              "9999    150261\n",
              "Name: Price, Length: 9895, dtype: int64"
            ]
          },
          "execution_count": 162,
          "metadata": {},
          "output_type": "execute_result"
        }
      ],
      "source": [
        "df[\"Price\"]"
      ]
    },
    {
      "cell_type": "code",
      "execution_count": 163,
      "metadata": {
        "colab": {
          "base_uri": "https://localhost:8080/",
          "height": 458
        },
        "id": "ACHLvXCtmWAm",
        "outputId": "a0d7d4f2-1824-4bb3-aad9-d6fc39d4b972"
      },
      "outputs": [
        {
          "data": {
            "text/plain": [
              "0        48775.38\n",
              "1        62475.00\n",
              "2        32498.22\n",
              "3       112528.44\n",
              "4       142793.88\n",
              "          ...    \n",
              "9994    224280.66\n",
              "9996     81654.06\n",
              "9997    187048.62\n",
              "9998     41693.52\n",
              "9999    153266.22\n",
              "Name: Price, Length: 9895, dtype: float64"
            ]
          },
          "execution_count": 163,
          "metadata": {},
          "output_type": "execute_result"
        }
      ],
      "source": [
        "# convert AED to SAR\n",
        "\n",
        "current_currency= 1.02\n",
        "\n",
        "df[\"Price\"]= df[\"Price\"]*current_currency\n",
        "\n",
        "df[\"Price\"]"
      ]
    },
    {
      "cell_type": "markdown",
      "metadata": {
        "id": "Lj5_mEjpmWAn"
      },
      "source": [
        "4.3- Description: Seller's description.\n"
      ]
    },
    {
      "cell_type": "code",
      "execution_count": 164,
      "metadata": {
        "colab": {
          "base_uri": "https://localhost:8080/",
          "height": 489
        },
        "id": "lkoxPHw5mWAn",
        "outputId": "fc513d01-36a0-43f2-96fa-8acafc3b4ea6"
      },
      "outputs": [
        {
          "data": {
            "text/plain": [
              "Description\n",
              "2018 mercedes-benz s-class with Bluetooth, Rear camera, Leather seats. Condition: Engine repaired.          2\n",
              "2014 mercedes-benz s-class with Navigation system, Adaptive cruise control. Condition: Repainted bumper.    2\n",
              "2013 mercedes-benz e-class with Bluetooth, Navigation system, Sunroof. Condition: Dented door.              2\n",
              "2021 mercedes-benz s-class with Bluetooth, Navigation system. Condition: Engine repaired.                   2\n",
              "2024 nissan patrol with Bluetooth, Rear camera, Sunroof. Condition: Repainted bumper.                       2\n",
              "                                                                                                           ..\n",
              "2024 nissan maxima with Rear camera, Leather seats, Bluetooth, Sunroof. Condition: Dented door.             1\n",
              "2012 chevrolet suburban with Bluetooth, Leather seats. Condition: Dented door.                              1\n",
              "2019 ford focus with Navigation system, Adaptive cruise control, Leather seats. Condition: No damage.       1\n",
              "2024 jeep wrangler with Rear camera, Bluetooth, Leather seats, Sunroof. Condition: Dented door.             1\n",
              "2009 mercedes-benz c-class with Rear camera, Navigation system. Condition: Accident history.                1\n",
              "Name: count, Length: 9880, dtype: int64"
            ]
          },
          "execution_count": 164,
          "metadata": {},
          "output_type": "execute_result"
        }
      ],
      "source": [
        "df[\"Description\"].value_counts()\n"
      ]
    },
    {
      "cell_type": "code",
      "execution_count": 165,
      "metadata": {
        "colab": {
          "base_uri": "https://localhost:8080/",
          "height": 458
        },
        "id": "eZ_ma4rbmWAn",
        "outputId": "b6a6ee66-92e3-44a8-927b-384e8b01d38c"
      },
      "outputs": [
        {
          "data": {
            "text/plain": [
              "0        Engine repaired\n",
              "1       Accident history\n",
              "2        Engine repaired\n",
              "3        Minor scratches\n",
              "4            Dented door\n",
              "              ...       \n",
              "9994     Minor scratches\n",
              "9996         Dented door\n",
              "9997           No damage\n",
              "9998     Minor scratches\n",
              "9999    Accident history\n",
              "Name: Condition, Length: 9895, dtype: object"
            ]
          },
          "execution_count": 165,
          "metadata": {},
          "output_type": "execute_result"
        }
      ],
      "source": [
        "# Extract condition\n",
        "\n",
        "df[\"Condition\"] = df[\"Description\"].str.extract(r'Condition: (.+)\\.')\n",
        "df[\"Condition\"]"
      ]
    },
    {
      "cell_type": "code",
      "execution_count": 166,
      "metadata": {
        "colab": {
          "base_uri": "https://localhost:8080/"
        },
        "id": "4d644yTVmWAn",
        "outputId": "b1e8526e-a2df-4257-8195-c1250b7e0cbf"
      },
      "outputs": [
        {
          "data": {
            "text/plain": [
              "array(['Engine repaired', 'Accident history', 'Minor scratches',\n",
              "       'Dented door', 'Repainted bumper', 'No damage'], dtype=object)"
            ]
          },
          "execution_count": 166,
          "metadata": {},
          "output_type": "execute_result"
        }
      ],
      "source": [
        "df[\"Condition\"].unique()"
      ]
    },
    {
      "cell_type": "code",
      "execution_count": 167,
      "metadata": {
        "colab": {
          "base_uri": "https://localhost:8080/",
          "height": 458
        },
        "id": "pBdfSJ70mWAn",
        "outputId": "fa91485c-faeb-45a8-cf91-f1a443c54561"
      },
      "outputs": [
        {
          "data": {
            "text/plain": [
              "0                              Rear camera, Leather seats\n",
              "1       Sunroof, Adaptive cruise control, Rear camera,...\n",
              "2       Adaptive cruise control, Rear camera, Sunroof,...\n",
              "3                    Rear camera, Adaptive cruise control\n",
              "4         Adaptive cruise control, Bluetooth, Rear camera\n",
              "                              ...                        \n",
              "9994        Sunroof, Rear camera, Adaptive cruise control\n",
              "9996    Sunroof, Bluetooth, Rear camera, Navigation sy...\n",
              "9997                 Rear camera, Adaptive cruise control\n",
              "9998        Navigation system, Rear camera, Leather seats\n",
              "9999                       Rear camera, Navigation system\n",
              "Name: Features, Length: 9895, dtype: object"
            ]
          },
          "execution_count": 167,
          "metadata": {},
          "output_type": "execute_result"
        }
      ],
      "source": [
        "# Extract features\n",
        "\n",
        "df[\"Features\"] = df[\"Description\"].str.extract(r'with (.+?)\\. Condition:')\n",
        "df[\"Features\"]"
      ]
    },
    {
      "cell_type": "code",
      "execution_count": 168,
      "metadata": {
        "colab": {
          "base_uri": "https://localhost:8080/"
        },
        "id": "d-covik5mWAn",
        "outputId": "1429733d-df14-41d3-db89-4546a50c5b17"
      },
      "outputs": [
        {
          "data": {
            "text/plain": [
              "array(['Rear camera, Leather seats',\n",
              "       'Sunroof, Adaptive cruise control, Rear camera, Bluetooth',\n",
              "       'Adaptive cruise control, Rear camera, Sunroof, Bluetooth',\n",
              "       'Rear camera, Adaptive cruise control',\n",
              "       'Adaptive cruise control, Bluetooth, Rear camera',\n",
              "       'Navigation system, Bluetooth, Sunroof, Adaptive cruise control',\n",
              "       'Leather seats, Sunroof',\n",
              "       'Rear camera, Adaptive cruise control, Leather seats',\n",
              "       'Navigation system, Leather seats, Adaptive cruise control',\n",
              "       'Sunroof, Leather seats', 'Leather seats, Adaptive cruise control',\n",
              "       'Bluetooth, Sunroof, Adaptive cruise control',\n",
              "       'Bluetooth, Sunroof, Navigation system, Leather seats',\n",
              "       'Bluetooth, Rear camera, Sunroof',\n",
              "       'Leather seats, Sunroof, Bluetooth, Adaptive cruise control',\n",
              "       'Sunroof, Rear camera, Adaptive cruise control, Navigation system',\n",
              "       'Adaptive cruise control, Rear camera, Bluetooth, Leather seats',\n",
              "       'Leather seats, Adaptive cruise control, Sunroof, Bluetooth',\n",
              "       'Sunroof, Navigation system',\n",
              "       'Leather seats, Sunroof, Rear camera, Adaptive cruise control',\n",
              "       'Bluetooth, Leather seats, Rear camera',\n",
              "       'Leather seats, Navigation system, Adaptive cruise control',\n",
              "       'Bluetooth, Rear camera, Navigation system',\n",
              "       'Rear camera, Leather seats, Bluetooth, Navigation system',\n",
              "       'Leather seats, Adaptive cruise control, Rear camera, Sunroof',\n",
              "       'Rear camera, Bluetooth, Leather seats',\n",
              "       'Adaptive cruise control, Rear camera',\n",
              "       'Bluetooth, Adaptive cruise control, Navigation system',\n",
              "       'Bluetooth, Adaptive cruise control',\n",
              "       'Adaptive cruise control, Leather seats, Sunroof, Bluetooth',\n",
              "       'Bluetooth, Rear camera, Sunroof, Leather seats',\n",
              "       'Sunroof, Rear camera, Bluetooth',\n",
              "       'Rear camera, Navigation system, Sunroof',\n",
              "       'Adaptive cruise control, Sunroof',\n",
              "       'Navigation system, Adaptive cruise control',\n",
              "       'Bluetooth, Rear camera',\n",
              "       'Bluetooth, Leather seats, Rear camera, Navigation system',\n",
              "       'Rear camera, Leather seats, Adaptive cruise control',\n",
              "       'Navigation system, Rear camera', 'Rear camera, Sunroof',\n",
              "       'Navigation system, Adaptive cruise control, Bluetooth, Rear camera',\n",
              "       'Navigation system, Bluetooth, Leather seats, Sunroof',\n",
              "       'Navigation system, Leather seats',\n",
              "       'Sunroof, Leather seats, Adaptive cruise control, Rear camera',\n",
              "       'Sunroof, Navigation system, Rear camera, Leather seats',\n",
              "       'Leather seats, Navigation system',\n",
              "       'Navigation system, Bluetooth, Adaptive cruise control, Sunroof',\n",
              "       'Navigation system, Sunroof, Bluetooth, Adaptive cruise control',\n",
              "       'Adaptive cruise control, Navigation system, Sunroof',\n",
              "       'Navigation system, Adaptive cruise control, Bluetooth, Sunroof',\n",
              "       'Bluetooth, Sunroof, Leather seats',\n",
              "       'Adaptive cruise control, Rear camera, Sunroof, Navigation system',\n",
              "       'Rear camera, Navigation system',\n",
              "       'Adaptive cruise control, Leather seats, Rear camera, Sunroof',\n",
              "       'Sunroof, Adaptive cruise control, Navigation system',\n",
              "       'Adaptive cruise control, Bluetooth',\n",
              "       'Leather seats, Navigation system, Bluetooth',\n",
              "       'Sunroof, Bluetooth, Leather seats, Rear camera',\n",
              "       'Rear camera, Navigation system, Adaptive cruise control, Sunroof',\n",
              "       'Bluetooth, Sunroof',\n",
              "       'Sunroof, Rear camera, Navigation system, Bluetooth',\n",
              "       'Rear camera, Sunroof, Navigation system, Leather seats',\n",
              "       'Bluetooth, Adaptive cruise control, Leather seats, Navigation system',\n",
              "       'Navigation system, Rear camera, Sunroof',\n",
              "       'Adaptive cruise control, Sunroof, Leather seats, Navigation system',\n",
              "       'Sunroof, Navigation system, Rear camera, Bluetooth',\n",
              "       'Navigation system, Leather seats, Adaptive cruise control, Rear camera',\n",
              "       'Rear camera, Bluetooth, Navigation system',\n",
              "       'Rear camera, Sunroof, Adaptive cruise control, Navigation system',\n",
              "       'Bluetooth, Navigation system, Sunroof, Rear camera',\n",
              "       'Rear camera, Adaptive cruise control, Leather seats, Navigation system',\n",
              "       'Adaptive cruise control, Leather seats, Sunroof',\n",
              "       'Adaptive cruise control, Rear camera, Navigation system, Bluetooth',\n",
              "       'Leather seats, Adaptive cruise control, Sunroof, Navigation system',\n",
              "       'Adaptive cruise control, Bluetooth, Leather seats, Rear camera',\n",
              "       'Bluetooth, Adaptive cruise control, Navigation system, Leather seats',\n",
              "       'Bluetooth, Navigation system, Leather seats',\n",
              "       'Sunroof, Bluetooth',\n",
              "       'Sunroof, Adaptive cruise control, Navigation system, Bluetooth',\n",
              "       'Navigation system, Sunroof, Rear camera',\n",
              "       'Leather seats, Bluetooth',\n",
              "       'Bluetooth, Adaptive cruise control, Leather seats',\n",
              "       'Adaptive cruise control, Navigation system',\n",
              "       'Rear camera, Navigation system, Adaptive cruise control, Bluetooth',\n",
              "       'Navigation system, Sunroof, Leather seats, Rear camera',\n",
              "       'Navigation system, Adaptive cruise control, Leather seats',\n",
              "       'Leather seats, Sunroof, Rear camera',\n",
              "       'Bluetooth, Adaptive cruise control, Rear camera',\n",
              "       'Bluetooth, Navigation system, Adaptive cruise control',\n",
              "       'Sunroof, Rear camera, Adaptive cruise control',\n",
              "       'Navigation system, Leather seats, Bluetooth, Sunroof',\n",
              "       'Sunroof, Leather seats, Navigation system',\n",
              "       'Rear camera, Navigation system, Bluetooth',\n",
              "       'Bluetooth, Leather seats, Sunroof, Adaptive cruise control',\n",
              "       'Adaptive cruise control, Leather seats, Bluetooth, Sunroof',\n",
              "       'Bluetooth, Leather seats, Adaptive cruise control, Sunroof',\n",
              "       'Rear camera, Navigation system, Leather seats',\n",
              "       'Rear camera, Sunroof, Adaptive cruise control',\n",
              "       'Leather seats, Adaptive cruise control, Sunroof',\n",
              "       'Adaptive cruise control, Rear camera, Navigation system',\n",
              "       'Sunroof, Navigation system, Rear camera',\n",
              "       'Sunroof, Adaptive cruise control, Leather seats, Bluetooth',\n",
              "       'Leather seats, Bluetooth, Navigation system',\n",
              "       'Bluetooth, Navigation system',\n",
              "       'Sunroof, Navigation system, Adaptive cruise control',\n",
              "       'Sunroof, Adaptive cruise control, Bluetooth, Leather seats',\n",
              "       'Adaptive cruise control, Sunroof, Leather seats',\n",
              "       'Bluetooth, Rear camera, Navigation system, Adaptive cruise control',\n",
              "       'Rear camera, Leather seats, Navigation system',\n",
              "       'Sunroof, Rear camera, Bluetooth, Navigation system',\n",
              "       'Navigation system, Bluetooth, Adaptive cruise control, Leather seats',\n",
              "       'Leather seats, Rear camera, Bluetooth',\n",
              "       'Bluetooth, Navigation system, Sunroof',\n",
              "       'Navigation system, Sunroof, Adaptive cruise control',\n",
              "       'Adaptive cruise control, Sunroof, Bluetooth, Leather seats',\n",
              "       'Adaptive cruise control, Leather seats',\n",
              "       'Navigation system, Rear camera, Leather seats',\n",
              "       'Adaptive cruise control, Leather seats, Navigation system',\n",
              "       'Bluetooth, Navigation system, Rear camera',\n",
              "       'Adaptive cruise control, Navigation system, Rear camera, Leather seats',\n",
              "       'Rear camera, Leather seats, Sunroof, Navigation system',\n",
              "       'Navigation system, Bluetooth, Rear camera',\n",
              "       'Rear camera, Sunroof, Bluetooth, Navigation system',\n",
              "       'Sunroof, Navigation system, Bluetooth, Adaptive cruise control',\n",
              "       'Rear camera, Navigation system, Bluetooth, Adaptive cruise control',\n",
              "       'Bluetooth, Sunroof, Leather seats, Navigation system',\n",
              "       'Navigation system, Rear camera, Leather seats, Bluetooth',\n",
              "       'Leather seats, Rear camera', 'Bluetooth, Leather seats, Sunroof',\n",
              "       'Sunroof, Leather seats, Navigation system, Rear camera',\n",
              "       'Bluetooth, Navigation system, Adaptive cruise control, Sunroof',\n",
              "       'Adaptive cruise control, Leather seats, Rear camera',\n",
              "       'Navigation system, Leather seats, Rear camera, Sunroof',\n",
              "       'Navigation system, Sunroof, Leather seats, Bluetooth',\n",
              "       'Navigation system, Rear camera, Adaptive cruise control, Leather seats',\n",
              "       'Navigation system, Adaptive cruise control, Bluetooth',\n",
              "       'Sunroof, Adaptive cruise control',\n",
              "       'Leather seats, Navigation system, Adaptive cruise control, Sunroof',\n",
              "       'Rear camera, Adaptive cruise control, Navigation system, Leather seats',\n",
              "       'Leather seats, Bluetooth, Rear camera',\n",
              "       'Rear camera, Bluetooth, Adaptive cruise control, Leather seats',\n",
              "       'Navigation system, Rear camera, Bluetooth, Leather seats',\n",
              "       'Navigation system, Bluetooth, Leather seats, Adaptive cruise control',\n",
              "       'Adaptive cruise control, Bluetooth, Sunroof, Rear camera',\n",
              "       'Bluetooth, Leather seats',\n",
              "       'Adaptive cruise control, Bluetooth, Sunroof',\n",
              "       'Leather seats, Adaptive cruise control, Rear camera, Navigation system',\n",
              "       'Navigation system, Rear camera, Bluetooth',\n",
              "       'Navigation system, Leather seats, Sunroof',\n",
              "       'Rear camera, Sunroof, Navigation system, Adaptive cruise control',\n",
              "       'Bluetooth, Rear camera, Adaptive cruise control, Sunroof',\n",
              "       'Adaptive cruise control, Rear camera, Bluetooth',\n",
              "       'Navigation system, Adaptive cruise control, Leather seats, Bluetooth',\n",
              "       'Navigation system, Sunroof, Leather seats',\n",
              "       'Adaptive cruise control, Navigation system, Leather seats',\n",
              "       'Bluetooth, Navigation system, Adaptive cruise control, Rear camera',\n",
              "       'Sunroof, Rear camera, Navigation system, Adaptive cruise control',\n",
              "       'Bluetooth, Navigation system, Adaptive cruise control, Leather seats',\n",
              "       'Leather seats, Bluetooth, Navigation system, Sunroof',\n",
              "       'Navigation system, Bluetooth, Sunroof', 'Rear camera, Bluetooth',\n",
              "       'Sunroof, Navigation system, Leather seats',\n",
              "       'Bluetooth, Sunroof, Leather seats, Rear camera',\n",
              "       'Sunroof, Navigation system, Rear camera, Adaptive cruise control',\n",
              "       'Rear camera, Leather seats, Navigation system, Adaptive cruise control',\n",
              "       'Sunroof, Rear camera',\n",
              "       'Sunroof, Bluetooth, Leather seats, Adaptive cruise control',\n",
              "       'Navigation system, Leather seats, Bluetooth',\n",
              "       'Adaptive cruise control, Navigation system, Sunroof, Rear camera',\n",
              "       'Bluetooth, Adaptive cruise control, Sunroof',\n",
              "       'Adaptive cruise control, Sunroof, Bluetooth',\n",
              "       'Sunroof, Adaptive cruise control, Rear camera',\n",
              "       'Navigation system, Rear camera, Adaptive cruise control',\n",
              "       'Navigation system, Rear camera, Sunroof, Leather seats',\n",
              "       'Adaptive cruise control, Leather seats, Navigation system, Bluetooth',\n",
              "       'Leather seats, Sunroof, Adaptive cruise control, Bluetooth',\n",
              "       'Sunroof, Bluetooth, Adaptive cruise control',\n",
              "       'Sunroof, Bluetooth, Leather seats',\n",
              "       'Bluetooth, Rear camera, Navigation system, Leather seats',\n",
              "       'Adaptive cruise control, Rear camera, Leather seats, Navigation system',\n",
              "       'Leather seats, Rear camera, Sunroof, Adaptive cruise control',\n",
              "       'Navigation system, Sunroof',\n",
              "       'Adaptive cruise control, Rear camera, Sunroof',\n",
              "       'Navigation system, Bluetooth',\n",
              "       'Bluetooth, Leather seats, Rear camera, Adaptive cruise control',\n",
              "       'Rear camera, Leather seats, Bluetooth, Sunroof',\n",
              "       'Rear camera, Leather seats, Sunroof',\n",
              "       'Navigation system, Bluetooth, Leather seats',\n",
              "       'Bluetooth, Rear camera, Adaptive cruise control',\n",
              "       'Leather seats, Bluetooth, Adaptive cruise control',\n",
              "       'Bluetooth, Rear camera, Leather seats',\n",
              "       'Adaptive cruise control, Rear camera, Leather seats, Bluetooth',\n",
              "       'Leather seats, Navigation system, Sunroof',\n",
              "       'Adaptive cruise control, Rear camera, Bluetooth, Sunroof',\n",
              "       'Leather seats, Rear camera, Sunroof, Bluetooth',\n",
              "       'Bluetooth, Adaptive cruise control, Sunroof, Leather seats',\n",
              "       'Bluetooth, Leather seats, Navigation system',\n",
              "       'Bluetooth, Rear camera, Leather seats, Sunroof',\n",
              "       'Rear camera, Sunroof, Leather seats',\n",
              "       'Rear camera, Navigation system, Adaptive cruise control',\n",
              "       'Sunroof, Leather seats, Bluetooth',\n",
              "       'Rear camera, Leather seats, Bluetooth, Adaptive cruise control',\n",
              "       'Sunroof, Rear camera, Leather seats, Bluetooth',\n",
              "       'Rear camera, Adaptive cruise control, Sunroof',\n",
              "       'Rear camera, Navigation system, Leather seats, Sunroof',\n",
              "       'Adaptive cruise control, Navigation system, Leather seats, Rear camera',\n",
              "       'Leather seats, Bluetooth, Sunroof',\n",
              "       'Sunroof, Rear camera, Leather seats, Navigation system',\n",
              "       'Leather seats, Navigation system, Rear camera',\n",
              "       'Leather seats, Sunroof, Adaptive cruise control',\n",
              "       'Sunroof, Rear camera, Leather seats',\n",
              "       'Adaptive cruise control, Leather seats, Sunroof, Rear camera',\n",
              "       'Bluetooth, Rear camera, Sunroof, Adaptive cruise control',\n",
              "       'Rear camera, Navigation system, Adaptive cruise control, Leather seats',\n",
              "       'Rear camera, Sunroof, Adaptive cruise control, Leather seats',\n",
              "       'Leather seats, Sunroof, Navigation system',\n",
              "       'Navigation system, Rear camera, Leather seats, Sunroof',\n",
              "       'Bluetooth, Adaptive cruise control, Navigation system, Sunroof',\n",
              "       'Sunroof, Rear camera, Adaptive cruise control, Bluetooth',\n",
              "       'Rear camera, Sunroof, Navigation system',\n",
              "       'Rear camera, Adaptive cruise control, Sunroof, Navigation system',\n",
              "       'Rear camera, Bluetooth, Navigation system, Adaptive cruise control',\n",
              "       'Navigation system, Bluetooth, Adaptive cruise control',\n",
              "       'Adaptive cruise control, Leather seats, Bluetooth, Navigation system',\n",
              "       'Sunroof, Rear camera, Navigation system',\n",
              "       'Rear camera, Adaptive cruise control, Navigation system, Bluetooth',\n",
              "       'Leather seats, Sunroof, Rear camera, Navigation system',\n",
              "       'Leather seats, Bluetooth, Rear camera, Sunroof',\n",
              "       'Adaptive cruise control, Leather seats, Bluetooth',\n",
              "       'Adaptive cruise control, Rear camera, Leather seats',\n",
              "       'Leather seats, Adaptive cruise control, Bluetooth',\n",
              "       'Navigation system, Adaptive cruise control, Rear camera',\n",
              "       'Bluetooth, Sunroof, Rear camera',\n",
              "       'Bluetooth, Sunroof, Navigation system',\n",
              "       'Sunroof, Bluetooth, Rear camera, Navigation system',\n",
              "       'Sunroof, Bluetooth, Adaptive cruise control, Leather seats',\n",
              "       'Adaptive cruise control, Navigation system, Bluetooth',\n",
              "       'Navigation system, Sunroof, Bluetooth, Rear camera',\n",
              "       'Leather seats, Adaptive cruise control, Rear camera',\n",
              "       'Leather seats, Rear camera, Bluetooth, Adaptive cruise control',\n",
              "       'Leather seats, Navigation system, Bluetooth, Sunroof',\n",
              "       'Adaptive cruise control, Bluetooth, Navigation system',\n",
              "       'Leather seats, Adaptive cruise control, Bluetooth, Navigation system',\n",
              "       'Navigation system, Sunroof, Adaptive cruise control, Rear camera',\n",
              "       'Rear camera, Bluetooth, Leather seats, Adaptive cruise control',\n",
              "       'Sunroof, Navigation system, Adaptive cruise control, Rear camera',\n",
              "       'Sunroof, Leather seats, Bluetooth, Adaptive cruise control',\n",
              "       'Navigation system, Leather seats, Rear camera',\n",
              "       'Adaptive cruise control, Sunroof, Navigation system',\n",
              "       'Adaptive cruise control, Bluetooth, Leather seats',\n",
              "       'Bluetooth, Adaptive cruise control, Rear camera, Sunroof',\n",
              "       'Adaptive cruise control, Leather seats, Navigation system, Sunroof',\n",
              "       'Navigation system, Adaptive cruise control, Sunroof, Bluetooth',\n",
              "       'Navigation system, Sunroof, Adaptive cruise control, Leather seats',\n",
              "       'Bluetooth, Leather seats, Navigation system, Sunroof',\n",
              "       'Bluetooth, Rear camera, Leather seats, Navigation system',\n",
              "       'Sunroof, Adaptive cruise control, Leather seats, Rear camera',\n",
              "       'Sunroof, Leather seats, Adaptive cruise control, Navigation system',\n",
              "       'Adaptive cruise control, Rear camera, Navigation system, Leather seats',\n",
              "       'Navigation system, Bluetooth, Sunroof, Rear camera',\n",
              "       'Sunroof, Adaptive cruise control, Leather seats',\n",
              "       'Rear camera, Adaptive cruise control, Leather seats, Sunroof',\n",
              "       'Navigation system, Sunroof, Rear camera, Bluetooth',\n",
              "       'Adaptive cruise control, Leather seats, Rear camera, Bluetooth',\n",
              "       'Adaptive cruise control, Rear camera, Navigation system, Sunroof',\n",
              "       'Bluetooth, Navigation system, Rear camera, Adaptive cruise control',\n",
              "       'Bluetooth, Adaptive cruise control, Leather seats, Sunroof',\n",
              "       'Rear camera, Leather seats, Sunroof, Bluetooth',\n",
              "       'Sunroof, Leather seats, Adaptive cruise control',\n",
              "       'Bluetooth, Leather seats, Sunroof, Navigation system',\n",
              "       'Sunroof, Leather seats, Rear camera, Adaptive cruise control',\n",
              "       'Leather seats, Sunroof, Adaptive cruise control, Navigation system',\n",
              "       'Rear camera, Sunroof, Leather seats, Bluetooth',\n",
              "       'Adaptive cruise control, Sunroof, Leather seats, Rear camera',\n",
              "       'Leather seats, Bluetooth, Sunroof, Rear camera',\n",
              "       'Sunroof, Bluetooth, Rear camera',\n",
              "       'Bluetooth, Navigation system, Leather seats, Sunroof',\n",
              "       'Leather seats, Sunroof, Navigation system, Bluetooth',\n",
              "       'Leather seats, Rear camera, Sunroof, Navigation system',\n",
              "       'Adaptive cruise control, Navigation system, Rear camera',\n",
              "       'Leather seats, Sunroof, Adaptive cruise control, Rear camera',\n",
              "       'Navigation system, Leather seats, Bluetooth, Adaptive cruise control',\n",
              "       'Rear camera, Bluetooth, Sunroof',\n",
              "       'Rear camera, Adaptive cruise control, Navigation system',\n",
              "       'Leather seats, Rear camera, Adaptive cruise control',\n",
              "       'Bluetooth, Leather seats, Navigation system, Rear camera',\n",
              "       'Rear camera, Bluetooth, Sunroof, Adaptive cruise control',\n",
              "       'Leather seats, Rear camera, Navigation system, Bluetooth',\n",
              "       'Leather seats, Bluetooth, Adaptive cruise control, Navigation system',\n",
              "       'Adaptive cruise control, Navigation system, Sunroof, Bluetooth',\n",
              "       'Bluetooth, Navigation system, Leather seats, Adaptive cruise control',\n",
              "       'Navigation system, Leather seats, Bluetooth, Rear camera',\n",
              "       'Rear camera, Sunroof, Bluetooth, Leather seats',\n",
              "       'Adaptive cruise control, Leather seats, Rear camera, Navigation system',\n",
              "       'Rear camera, Bluetooth, Navigation system, Sunroof',\n",
              "       'Sunroof, Navigation system, Bluetooth, Rear camera',\n",
              "       'Sunroof, Adaptive cruise control, Bluetooth, Rear camera',\n",
              "       'Navigation system, Adaptive cruise control, Leather seats, Sunroof',\n",
              "       'Adaptive cruise control, Bluetooth, Navigation system, Leather seats',\n",
              "       'Rear camera, Navigation system, Sunroof, Leather seats',\n",
              "       'Sunroof, Bluetooth, Rear camera, Adaptive cruise control',\n",
              "       'Adaptive cruise control, Bluetooth, Rear camera, Navigation system',\n",
              "       'Sunroof, Navigation system, Bluetooth, Leather seats',\n",
              "       'Adaptive cruise control, Navigation system, Leather seats, Bluetooth',\n",
              "       'Navigation system, Adaptive cruise control, Leather seats, Rear camera',\n",
              "       'Adaptive cruise control, Sunroof, Navigation system, Leather seats',\n",
              "       'Leather seats, Rear camera, Navigation system, Sunroof',\n",
              "       'Leather seats, Adaptive cruise control, Navigation system, Rear camera',\n",
              "       'Adaptive cruise control, Bluetooth, Rear camera, Sunroof',\n",
              "       'Leather seats, Rear camera, Sunroof',\n",
              "       'Navigation system, Adaptive cruise control, Sunroof',\n",
              "       'Sunroof, Rear camera, Navigation system, Leather seats',\n",
              "       'Rear camera, Adaptive cruise control, Bluetooth, Sunroof',\n",
              "       'Adaptive cruise control, Navigation system, Rear camera, Bluetooth',\n",
              "       'Adaptive cruise control, Sunroof, Rear camera, Navigation system',\n",
              "       'Rear camera, Leather seats, Adaptive cruise control, Bluetooth',\n",
              "       'Bluetooth, Sunroof, Navigation system, Adaptive cruise control',\n",
              "       'Rear camera, Navigation system, Leather seats, Adaptive cruise control',\n",
              "       'Navigation system, Rear camera, Adaptive cruise control, Bluetooth',\n",
              "       'Sunroof, Leather seats, Bluetooth, Navigation system',\n",
              "       'Sunroof, Leather seats, Rear camera',\n",
              "       'Adaptive cruise control, Sunroof, Rear camera, Leather seats',\n",
              "       'Bluetooth, Adaptive cruise control, Sunroof, Rear camera',\n",
              "       'Navigation system, Sunroof, Bluetooth',\n",
              "       'Adaptive cruise control, Sunroof, Rear camera',\n",
              "       'Adaptive cruise control, Navigation system, Bluetooth, Leather seats',\n",
              "       'Bluetooth, Leather seats, Adaptive cruise control, Rear camera',\n",
              "       'Navigation system, Bluetooth, Rear camera, Sunroof',\n",
              "       'Navigation system, Leather seats, Adaptive cruise control, Sunroof',\n",
              "       'Sunroof, Navigation system, Bluetooth',\n",
              "       'Sunroof, Bluetooth, Leather seats, Navigation system',\n",
              "       'Leather seats, Rear camera, Navigation system',\n",
              "       'Adaptive cruise control, Rear camera, Sunroof, Leather seats',\n",
              "       'Navigation system, Bluetooth, Leather seats, Rear camera',\n",
              "       'Bluetooth, Sunroof, Navigation system, Rear camera',\n",
              "       'Leather seats, Bluetooth, Adaptive cruise control, Rear camera',\n",
              "       'Sunroof, Bluetooth, Navigation system',\n",
              "       'Navigation system, Adaptive cruise control, Bluetooth, Leather seats',\n",
              "       'Bluetooth, Navigation system, Rear camera, Sunroof',\n",
              "       'Rear camera, Adaptive cruise control, Sunroof, Bluetooth',\n",
              "       'Leather seats, Adaptive cruise control, Sunroof, Rear camera',\n",
              "       'Bluetooth, Leather seats, Adaptive cruise control',\n",
              "       'Rear camera, Adaptive cruise control, Bluetooth',\n",
              "       'Rear camera, Sunroof, Bluetooth',\n",
              "       'Leather seats, Navigation system, Bluetooth, Rear camera',\n",
              "       'Navigation system, Rear camera, Sunroof, Adaptive cruise control',\n",
              "       'Leather seats, Bluetooth, Rear camera, Navigation system',\n",
              "       'Sunroof, Navigation system, Leather seats, Bluetooth',\n",
              "       'Rear camera, Sunroof, Leather seats, Adaptive cruise control',\n",
              "       'Leather seats, Navigation system, Adaptive cruise control, Bluetooth',\n",
              "       'Adaptive cruise control, Navigation system, Rear camera, Sunroof',\n",
              "       'Leather seats, Navigation system, Sunroof, Rear camera',\n",
              "       'Adaptive cruise control, Bluetooth, Navigation system, Rear camera',\n",
              "       'Bluetooth, Rear camera, Navigation system, Sunroof',\n",
              "       'Leather seats, Sunroof, Navigation system, Adaptive cruise control',\n",
              "       'Navigation system, Adaptive cruise control, Sunroof, Rear camera',\n",
              "       'Sunroof, Adaptive cruise control, Rear camera, Navigation system',\n",
              "       'Sunroof, Adaptive cruise control, Leather seats, Navigation system',\n",
              "       'Leather seats, Adaptive cruise control, Navigation system',\n",
              "       'Leather seats, Adaptive cruise control, Rear camera, Bluetooth',\n",
              "       'Leather seats, Navigation system, Rear camera, Sunroof',\n",
              "       'Bluetooth, Leather seats, Sunroof, Rear camera',\n",
              "       'Navigation system, Bluetooth, Sunroof, Leather seats',\n",
              "       'Sunroof, Leather seats, Adaptive cruise control, Bluetooth',\n",
              "       'Rear camera, Bluetooth, Navigation system, Leather seats',\n",
              "       'Sunroof, Navigation system, Leather seats, Adaptive cruise control',\n",
              "       'Adaptive cruise control, Bluetooth, Rear camera, Leather seats',\n",
              "       'Sunroof, Rear camera, Bluetooth, Leather seats',\n",
              "       'Bluetooth, Sunroof, Rear camera, Leather seats',\n",
              "       'Sunroof, Adaptive cruise control, Bluetooth',\n",
              "       'Navigation system, Rear camera, Leather seats, Adaptive cruise control',\n",
              "       'Rear camera, Navigation system, Leather seats, Bluetooth',\n",
              "       'Leather seats, Bluetooth, Navigation system, Rear camera',\n",
              "       'Navigation system, Leather seats, Adaptive cruise control, Bluetooth',\n",
              "       'Leather seats, Navigation system, Sunroof, Adaptive cruise control',\n",
              "       'Sunroof, Bluetooth, Adaptive cruise control, Navigation system',\n",
              "       'Navigation system, Rear camera, Bluetooth, Adaptive cruise control',\n",
              "       'Leather seats, Rear camera, Navigation system, Adaptive cruise control',\n",
              "       'Rear camera, Sunroof, Leather seats, Navigation system',\n",
              "       'Leather seats, Bluetooth, Adaptive cruise control, Sunroof',\n",
              "       'Leather seats, Adaptive cruise control, Navigation system, Bluetooth',\n",
              "       'Leather seats, Adaptive cruise control, Bluetooth, Rear camera',\n",
              "       'Leather seats, Sunroof, Navigation system, Rear camera',\n",
              "       'Rear camera, Bluetooth, Sunroof, Navigation system',\n",
              "       'Adaptive cruise control, Bluetooth, Leather seats, Sunroof',\n",
              "       'Navigation system, Sunroof, Rear camera, Adaptive cruise control',\n",
              "       'Leather seats, Navigation system, Sunroof, Bluetooth',\n",
              "       'Leather seats, Rear camera, Adaptive cruise control, Navigation system',\n",
              "       'Rear camera, Adaptive cruise control, Leather seats, Bluetooth',\n",
              "       'Adaptive cruise control, Sunroof, Navigation system, Rear camera',\n",
              "       'Navigation system, Sunroof, Bluetooth, Leather seats',\n",
              "       'Rear camera, Leather seats, Navigation system, Bluetooth',\n",
              "       'Navigation system, Rear camera, Bluetooth, Sunroof',\n",
              "       'Adaptive cruise control, Navigation system, Bluetooth, Sunroof',\n",
              "       'Adaptive cruise control, Sunroof, Leather seats, Bluetooth',\n",
              "       'Navigation system, Adaptive cruise control, Rear camera, Bluetooth',\n",
              "       'Bluetooth, Rear camera, Adaptive cruise control, Leather seats',\n",
              "       'Sunroof, Adaptive cruise control, Navigation system, Leather seats',\n",
              "       'Rear camera, Leather seats, Adaptive cruise control, Navigation system',\n",
              "       'Leather seats, Rear camera, Bluetooth, Sunroof',\n",
              "       'Bluetooth, Rear camera, Leather seats, Adaptive cruise control',\n",
              "       'Rear camera, Navigation system, Sunroof, Bluetooth',\n",
              "       'Rear camera, Leather seats, Sunroof, Adaptive cruise control',\n",
              "       'Bluetooth, Sunroof, Rear camera, Navigation system',\n",
              "       'Sunroof, Leather seats, Rear camera, Navigation system',\n",
              "       'Bluetooth, Sunroof, Leather seats, Adaptive cruise control',\n",
              "       'Bluetooth, Rear camera, Adaptive cruise control, Navigation system',\n",
              "       'Navigation system, Sunroof, Rear camera, Leather seats',\n",
              "       'Navigation system, Leather seats, Rear camera, Bluetooth',\n",
              "       'Leather seats, Navigation system, Rear camera, Adaptive cruise control',\n",
              "       'Adaptive cruise control, Leather seats, Navigation system, Rear camera',\n",
              "       'Navigation system, Sunroof, Adaptive cruise control, Bluetooth',\n",
              "       'Adaptive cruise control, Rear camera, Leather seats, Sunroof',\n",
              "       'Sunroof, Leather seats, Navigation system, Bluetooth',\n",
              "       'Bluetooth, Leather seats, Navigation system, Adaptive cruise control',\n",
              "       'Rear camera, Leather seats, Bluetooth',\n",
              "       'Rear camera, Navigation system, Sunroof, Adaptive cruise control',\n",
              "       'Navigation system, Leather seats, Sunroof, Bluetooth',\n",
              "       'Leather seats, Sunroof, Bluetooth',\n",
              "       'Sunroof, Rear camera, Adaptive cruise control, Leather seats',\n",
              "       'Bluetooth, Navigation system, Sunroof, Leather seats',\n",
              "       'Adaptive cruise control, Sunroof, Rear camera, Bluetooth',\n",
              "       'Leather seats, Bluetooth, Sunroof, Navigation system',\n",
              "       'Navigation system, Leather seats, Sunroof, Rear camera',\n",
              "       'Adaptive cruise control, Sunroof, Navigation system, Bluetooth',\n",
              "       'Rear camera, Bluetooth, Adaptive cruise control',\n",
              "       'Navigation system, Leather seats, Sunroof, Adaptive cruise control',\n",
              "       'Sunroof, Bluetooth, Navigation system, Rear camera',\n",
              "       'Navigation system, Rear camera, Adaptive cruise control, Sunroof',\n",
              "       'Navigation system, Bluetooth, Adaptive cruise control, Rear camera',\n",
              "       'Adaptive cruise control, Leather seats, Bluetooth, Rear camera',\n",
              "       'Bluetooth, Sunroof, Adaptive cruise control, Navigation system',\n",
              "       'Sunroof, Adaptive cruise control, Navigation system, Rear camera',\n",
              "       'Sunroof, Leather seats, Rear camera, Bluetooth',\n",
              "       'Rear camera, Bluetooth, Leather seats, Sunroof',\n",
              "       'Adaptive cruise control, Rear camera, Bluetooth, Navigation system',\n",
              "       'Leather seats, Navigation system, Rear camera, Bluetooth',\n",
              "       'Bluetooth, Adaptive cruise control, Navigation system, Rear camera',\n",
              "       'Adaptive cruise control, Navigation system, Sunroof, Leather seats',\n",
              "       'Adaptive cruise control, Bluetooth, Navigation system, Sunroof',\n",
              "       'Bluetooth, Rear camera, Sunroof, Navigation system',\n",
              "       'Bluetooth, Adaptive cruise control, Rear camera, Navigation system',\n",
              "       'Sunroof, Leather seats, Navigation system, Adaptive cruise control',\n",
              "       'Sunroof, Leather seats, Bluetooth, Rear camera',\n",
              "       'Leather seats, Rear camera, Adaptive cruise control, Sunroof',\n",
              "       'Leather seats, Sunroof, Rear camera, Bluetooth',\n",
              "       'Sunroof, Adaptive cruise control, Bluetooth, Navigation system',\n",
              "       'Navigation system, Leather seats, Rear camera, Adaptive cruise control',\n",
              "       'Bluetooth, Leather seats, Adaptive cruise control, Navigation system',\n",
              "       'Adaptive cruise control, Bluetooth, Leather seats, Navigation system',\n",
              "       'Sunroof, Bluetooth, Adaptive cruise control, Rear camera',\n",
              "       'Leather seats, Adaptive cruise control, Bluetooth, Sunroof',\n",
              "       'Navigation system, Adaptive cruise control, Rear camera, Sunroof',\n",
              "       'Leather seats, Navigation system, Bluetooth, Adaptive cruise control',\n",
              "       'Navigation system, Bluetooth, Rear camera, Leather seats',\n",
              "       'Bluetooth, Navigation system, Leather seats, Rear camera',\n",
              "       'Navigation system, Adaptive cruise control, Rear camera, Leather seats',\n",
              "       'Adaptive cruise control, Bluetooth, Sunroof, Navigation system',\n",
              "       'Navigation system, Sunroof, Leather seats, Adaptive cruise control',\n",
              "       'Sunroof, Navigation system, Adaptive cruise control, Leather seats',\n",
              "       'Rear camera, Adaptive cruise control, Bluetooth, Leather seats',\n",
              "       'Leather seats, Sunroof, Bluetooth, Rear camera',\n",
              "       'Rear camera, Bluetooth, Adaptive cruise control, Sunroof',\n",
              "       'Rear camera, Sunroof, Navigation system, Bluetooth',\n",
              "       'Rear camera, Navigation system, Bluetooth, Sunroof',\n",
              "       'Leather seats, Sunroof, Bluetooth, Navigation system',\n",
              "       'Bluetooth, Navigation system, Sunroof, Adaptive cruise control',\n",
              "       'Bluetooth, Adaptive cruise control, Leather seats, Rear camera',\n",
              "       'Bluetooth, Sunroof, Adaptive cruise control, Leather seats',\n",
              "       'Navigation system, Adaptive cruise control, Sunroof, Leather seats',\n",
              "       'Leather seats, Navigation system, Adaptive cruise control, Rear camera',\n",
              "       'Sunroof, Rear camera, Leather seats, Adaptive cruise control',\n",
              "       'Rear camera, Sunroof, Bluetooth, Adaptive cruise control',\n",
              "       'Adaptive cruise control, Leather seats, Sunroof, Navigation system',\n",
              "       'Navigation system, Bluetooth, Rear camera, Adaptive cruise control',\n",
              "       'Bluetooth, Navigation system, Rear camera, Leather seats',\n",
              "       'Bluetooth, Sunroof, Adaptive cruise control, Rear camera',\n",
              "       'Adaptive cruise control, Navigation system, Leather seats, Sunroof',\n",
              "       'Leather seats, Adaptive cruise control, Navigation system, Sunroof',\n",
              "       'Sunroof, Bluetooth, Rear camera, Leather seats',\n",
              "       'Rear camera, Leather seats, Adaptive cruise control, Sunroof',\n",
              "       'Sunroof, Bluetooth, Navigation system, Leather seats',\n",
              "       'Bluetooth, Leather seats, Rear camera, Sunroof',\n",
              "       'Sunroof, Rear camera, Bluetooth, Adaptive cruise control',\n",
              "       'Rear camera, Navigation system, Bluetooth, Leather seats',\n",
              "       'Rear camera, Bluetooth, Adaptive cruise control, Navigation system',\n",
              "       'Rear camera, Sunroof, Adaptive cruise control, Bluetooth',\n",
              "       'Sunroof, Navigation system, Adaptive cruise control, Bluetooth',\n",
              "       'Adaptive cruise control, Bluetooth, Sunroof, Leather seats',\n",
              "       'Adaptive cruise control, Sunroof, Bluetooth, Rear camera',\n",
              "       'Sunroof, Adaptive cruise control, Rear camera, Leather seats',\n",
              "       'Adaptive cruise control, Sunroof, Bluetooth, Navigation system',\n",
              "       'Bluetooth, Adaptive cruise control, Sunroof, Navigation system',\n",
              "       'Leather seats, Bluetooth, Rear camera, Adaptive cruise control',\n",
              "       'Rear camera, Bluetooth, Leather seats, Navigation system',\n",
              "       'Rear camera, Adaptive cruise control, Bluetooth, Navigation system',\n",
              "       'Navigation system, Rear camera, Sunroof, Bluetooth',\n",
              "       'Bluetooth, Sunroof, Rear camera, Adaptive cruise control',\n",
              "       'Bluetooth, Adaptive cruise control, Rear camera, Leather seats',\n",
              "       'Leather seats, Rear camera, Adaptive cruise control, Bluetooth',\n",
              "       'Sunroof, Navigation system, Leather seats, Rear camera',\n",
              "       'Rear camera, Adaptive cruise control, Sunroof, Leather seats',\n",
              "       'Rear camera, Leather seats, Navigation system, Sunroof',\n",
              "       'Rear camera, Adaptive cruise control, Navigation system, Sunroof',\n",
              "       'Sunroof, Bluetooth, Navigation system, Adaptive cruise control',\n",
              "       'Adaptive cruise control, Navigation system, Bluetooth, Rear camera',\n",
              "       'Leather seats, Rear camera, Bluetooth, Navigation system',\n",
              "       'Rear camera, Bluetooth, Sunroof, Leather seats',\n",
              "       'Leather seats, Bluetooth, Sunroof, Adaptive cruise control',\n",
              "       'Leather seats, Bluetooth, Navigation system, Adaptive cruise control'],\n",
              "      dtype=object)"
            ]
          },
          "execution_count": 168,
          "metadata": {},
          "output_type": "execute_result"
        }
      ],
      "source": [
        "df[\"Features\"].unique()"
      ]
    },
    {
      "cell_type": "code",
      "execution_count": 169,
      "metadata": {
        "colab": {
          "base_uri": "https://localhost:8080/"
        },
        "id": "nuBao19mmWAo",
        "outputId": "e4928f97-542e-44ae-83f2-cf50949b5529"
      },
      "outputs": [
        {
          "data": {
            "text/plain": [
              "9895"
            ]
          },
          "execution_count": 169,
          "metadata": {},
          "output_type": "execute_result"
        }
      ],
      "source": [
        "# Extract features -> Rear camera\n",
        "\n",
        "df[\"Rear_camera\"] = df[\"Features\"].apply(lambda x: 1 if \"Rear camera\" in str(x) else 0)\n",
        "\n",
        "df[\"Rear_camera\"].value_counts().sum()\n",
        "\n"
      ]
    },
    {
      "cell_type": "code",
      "execution_count": 170,
      "metadata": {
        "colab": {
          "base_uri": "https://localhost:8080/"
        },
        "id": "RqNXWs6kmWAo",
        "outputId": "398854ae-8356-4681-cc82-aea179d41c51"
      },
      "outputs": [
        {
          "data": {
            "text/plain": [
              "9895"
            ]
          },
          "execution_count": 170,
          "metadata": {},
          "output_type": "execute_result"
        }
      ],
      "source": [
        "# Extract features -> Navigation system\n",
        "\n",
        "df[\"Navigation_system\"] = df[\"Features\"].apply(lambda x: 1 if \"Navigation system\" in str(x) else 0)\n",
        "\n",
        "df[\"Navigation_system\"].value_counts().sum()\n"
      ]
    },
    {
      "cell_type": "code",
      "execution_count": 171,
      "metadata": {
        "colab": {
          "base_uri": "https://localhost:8080/"
        },
        "id": "jmAaiHT2mWAo",
        "outputId": "178c3b80-c970-4e26-d6b1-2b935698d439"
      },
      "outputs": [
        {
          "data": {
            "text/plain": [
              "9895"
            ]
          },
          "execution_count": 171,
          "metadata": {},
          "output_type": "execute_result"
        }
      ],
      "source": [
        "# Extract features -> Leather seats\n",
        "\n",
        "df[\"Leather_seats\"] = df[\"Features\"].apply(lambda x: 1 if \"Leather seats\" in str(x) else 0)\n",
        "\n",
        "df[\"Leather_seats\"].value_counts().sum()\n"
      ]
    },
    {
      "cell_type": "code",
      "execution_count": 172,
      "metadata": {
        "colab": {
          "base_uri": "https://localhost:8080/"
        },
        "id": "AZ0osw8omWAo",
        "outputId": "006adfcf-2fc5-4b24-ef7a-b4f31493f008"
      },
      "outputs": [
        {
          "data": {
            "text/plain": [
              "9895"
            ]
          },
          "execution_count": 172,
          "metadata": {},
          "output_type": "execute_result"
        }
      ],
      "source": [
        "# Extract features -> Sunroof\n",
        "\n",
        "df[\"Sunroof\"] = df[\"Features\"].apply(lambda x: 1 if \"Sunroof\" in str(x) else 0)\n",
        "\n",
        "df[\"Sunroof\"].value_counts().sum()\n"
      ]
    },
    {
      "cell_type": "code",
      "execution_count": 173,
      "metadata": {
        "colab": {
          "base_uri": "https://localhost:8080/"
        },
        "id": "w_Taz4qmmWAo",
        "outputId": "333253c2-9b81-490e-c20c-d30c6304fb4e"
      },
      "outputs": [
        {
          "data": {
            "text/plain": [
              "9895"
            ]
          },
          "execution_count": 173,
          "metadata": {},
          "output_type": "execute_result"
        }
      ],
      "source": [
        "# Extract features -> Cruise Control\n",
        "\n",
        "\n",
        "# 1 = Adaptive , 0= Regular\n",
        "df[\"cruise_control\"] = df[\"Features\"].apply(lambda x: 1 if \"Adaptive cruise control\" in str(x) else 0)\n",
        "\n",
        "df[\"cruise_control\"].value_counts().sum()\n"
      ]
    },
    {
      "cell_type": "code",
      "execution_count": 174,
      "metadata": {
        "colab": {
          "base_uri": "https://localhost:8080/"
        },
        "id": "neqh2ExqmWAp",
        "outputId": "1171be66-ae5b-417c-c0e0-e91f5b9db175"
      },
      "outputs": [
        {
          "data": {
            "text/plain": [
              "9895"
            ]
          },
          "execution_count": 174,
          "metadata": {},
          "output_type": "execute_result"
        }
      ],
      "source": [
        "# Extract features -> Bluetooth\n",
        "\n",
        "df[\"Bluetooth\"] = df[\"Features\"].apply(lambda x: 1 if \"Bluetooth\" in str(x) else 0)\n",
        "\n",
        "df[\"Bluetooth\"].value_counts().sum()"
      ]
    },
    {
      "cell_type": "code",
      "execution_count": 175,
      "metadata": {
        "id": "z5OeKYqKmWAp"
      },
      "outputs": [],
      "source": [
        "df = df.drop([\"Features\", \"Description\",\"Location\"], axis=1)"
      ]
    },
    {
      "cell_type": "code",
      "execution_count": 176,
      "metadata": {
        "colab": {
          "base_uri": "https://localhost:8080/",
          "height": 365
        },
        "id": "veuNLGIamWAy",
        "outputId": "e5e7ee69-2744-438b-8787-d2de8cabe47c"
      },
      "outputs": [
        {
          "data": {
            "text/html": [
              "<div>\n",
              "<style scoped>\n",
              "    .dataframe tbody tr th:only-of-type {\n",
              "        vertical-align: middle;\n",
              "    }\n",
              "\n",
              "    .dataframe tbody tr th {\n",
              "        vertical-align: top;\n",
              "    }\n",
              "\n",
              "    .dataframe thead th {\n",
              "        text-align: right;\n",
              "    }\n",
              "</style>\n",
              "<table border=\"1\" class=\"dataframe\">\n",
              "  <thead>\n",
              "    <tr style=\"text-align: right;\">\n",
              "      <th></th>\n",
              "      <th>Make</th>\n",
              "      <th>Model</th>\n",
              "      <th>Year</th>\n",
              "      <th>Price</th>\n",
              "      <th>Mileage</th>\n",
              "      <th>Body Type</th>\n",
              "      <th>Cylinders</th>\n",
              "      <th>Transmission</th>\n",
              "      <th>Fuel Type</th>\n",
              "      <th>Color</th>\n",
              "      <th>Condition</th>\n",
              "      <th>Rear_camera</th>\n",
              "      <th>Navigation_system</th>\n",
              "      <th>Leather_seats</th>\n",
              "      <th>Sunroof</th>\n",
              "      <th>cruise_control</th>\n",
              "      <th>Bluetooth</th>\n",
              "    </tr>\n",
              "  </thead>\n",
              "  <tbody>\n",
              "    <tr>\n",
              "      <th>0</th>\n",
              "      <td>toyota</td>\n",
              "      <td>camry</td>\n",
              "      <td>2016</td>\n",
              "      <td>48775.38</td>\n",
              "      <td>251861.71000</td>\n",
              "      <td>Sedan</td>\n",
              "      <td>4</td>\n",
              "      <td>Automatic Transmission</td>\n",
              "      <td>Gasoline</td>\n",
              "      <td>Black</td>\n",
              "      <td>Engine repaired</td>\n",
              "      <td>1</td>\n",
              "      <td>0</td>\n",
              "      <td>1</td>\n",
              "      <td>0</td>\n",
              "      <td>0</td>\n",
              "      <td>0</td>\n",
              "    </tr>\n",
              "    <tr>\n",
              "      <th>1</th>\n",
              "      <td>kia</td>\n",
              "      <td>sorento</td>\n",
              "      <td>2013</td>\n",
              "      <td>62475.00</td>\n",
              "      <td>272852.33162</td>\n",
              "      <td>SUV</td>\n",
              "      <td>4</td>\n",
              "      <td>Automatic Transmission</td>\n",
              "      <td>Gasoline</td>\n",
              "      <td>Grey</td>\n",
              "      <td>Accident history</td>\n",
              "      <td>1</td>\n",
              "      <td>0</td>\n",
              "      <td>0</td>\n",
              "      <td>1</td>\n",
              "      <td>1</td>\n",
              "      <td>1</td>\n",
              "    </tr>\n",
              "    <tr>\n",
              "      <th>2</th>\n",
              "      <td>mini</td>\n",
              "      <td>cooper</td>\n",
              "      <td>2023</td>\n",
              "      <td>32498.22</td>\n",
              "      <td>356602.38522</td>\n",
              "      <td>Soft Top Convertible</td>\n",
              "      <td>4</td>\n",
              "      <td>Automatic Transmission</td>\n",
              "      <td>Gasoline</td>\n",
              "      <td>Grey</td>\n",
              "      <td>Engine repaired</td>\n",
              "      <td>1</td>\n",
              "      <td>0</td>\n",
              "      <td>0</td>\n",
              "      <td>1</td>\n",
              "      <td>1</td>\n",
              "      <td>1</td>\n",
              "    </tr>\n",
              "    <tr>\n",
              "      <th>3</th>\n",
              "      <td>nissan</td>\n",
              "      <td>altima</td>\n",
              "      <td>2016</td>\n",
              "      <td>112528.44</td>\n",
              "      <td>112257.90236</td>\n",
              "      <td>Sedan</td>\n",
              "      <td>4</td>\n",
              "      <td>Automatic Transmission</td>\n",
              "      <td>Gasoline</td>\n",
              "      <td>Red</td>\n",
              "      <td>Minor scratches</td>\n",
              "      <td>1</td>\n",
              "      <td>0</td>\n",
              "      <td>0</td>\n",
              "      <td>0</td>\n",
              "      <td>1</td>\n",
              "      <td>0</td>\n",
              "    </tr>\n",
              "    <tr>\n",
              "      <th>4</th>\n",
              "      <td>toyota</td>\n",
              "      <td>land-cruiser-76-series</td>\n",
              "      <td>2020</td>\n",
              "      <td>142793.88</td>\n",
              "      <td>114905.26666</td>\n",
              "      <td>Pick Up Truck</td>\n",
              "      <td>4</td>\n",
              "      <td>Manual Transmission</td>\n",
              "      <td>Gasoline</td>\n",
              "      <td>White</td>\n",
              "      <td>Dented door</td>\n",
              "      <td>1</td>\n",
              "      <td>0</td>\n",
              "      <td>0</td>\n",
              "      <td>0</td>\n",
              "      <td>1</td>\n",
              "      <td>1</td>\n",
              "    </tr>\n",
              "  </tbody>\n",
              "</table>\n",
              "</div>"
            ],
            "text/plain": [
              "     Make                   Model  Year      Price       Mileage  \\\n",
              "0  toyota                   camry  2016   48775.38  251861.71000   \n",
              "1     kia                 sorento  2013   62475.00  272852.33162   \n",
              "2    mini                  cooper  2023   32498.22  356602.38522   \n",
              "3  nissan                  altima  2016  112528.44  112257.90236   \n",
              "4  toyota  land-cruiser-76-series  2020  142793.88  114905.26666   \n",
              "\n",
              "              Body Type Cylinders            Transmission Fuel Type  Color  \\\n",
              "0                 Sedan         4  Automatic Transmission  Gasoline  Black   \n",
              "1                   SUV         4  Automatic Transmission  Gasoline   Grey   \n",
              "2  Soft Top Convertible         4  Automatic Transmission  Gasoline   Grey   \n",
              "3                 Sedan         4  Automatic Transmission  Gasoline    Red   \n",
              "4         Pick Up Truck         4     Manual Transmission  Gasoline  White   \n",
              "\n",
              "          Condition  Rear_camera  Navigation_system  Leather_seats  Sunroof  \\\n",
              "0   Engine repaired            1                  0              1        0   \n",
              "1  Accident history            1                  0              0        1   \n",
              "2   Engine repaired            1                  0              0        1   \n",
              "3   Minor scratches            1                  0              0        0   \n",
              "4       Dented door            1                  0              0        0   \n",
              "\n",
              "   cruise_control  Bluetooth  \n",
              "0               0          0  \n",
              "1               1          1  \n",
              "2               1          1  \n",
              "3               1          0  \n",
              "4               1          1  "
            ]
          },
          "execution_count": 176,
          "metadata": {},
          "output_type": "execute_result"
        }
      ],
      "source": [
        "df.head()"
      ]
    },
    {
      "cell_type": "markdown",
      "metadata": {
        "id": "GTABS81PmWAy"
      },
      "source": [
        "4.4- Cylinders: Number of engine cylinders"
      ]
    },
    {
      "cell_type": "code",
      "execution_count": 177,
      "metadata": {
        "colab": {
          "base_uri": "https://localhost:8080/"
        },
        "id": "GtbzA7oTmWAy",
        "outputId": "19dff79b-4bc1-4343-af0e-4434ca4a69cb"
      },
      "outputs": [
        {
          "name": "stdout",
          "output_type": "stream",
          "text": [
            "<class 'pandas.core.frame.DataFrame'>\n",
            "Index: 9895 entries, 0 to 9999\n",
            "Data columns (total 17 columns):\n",
            " #   Column             Non-Null Count  Dtype  \n",
            "---  ------             --------------  -----  \n",
            " 0   Make               9895 non-null   object \n",
            " 1   Model              9895 non-null   object \n",
            " 2   Year               9895 non-null   int64  \n",
            " 3   Price              9895 non-null   float64\n",
            " 4   Mileage            9895 non-null   float64\n",
            " 5   Body Type          9895 non-null   object \n",
            " 6   Cylinders          9895 non-null   object \n",
            " 7   Transmission       9895 non-null   object \n",
            " 8   Fuel Type          9895 non-null   object \n",
            " 9   Color              9895 non-null   object \n",
            " 10  Condition          9895 non-null   object \n",
            " 11  Rear_camera        9895 non-null   int64  \n",
            " 12  Navigation_system  9895 non-null   int64  \n",
            " 13  Leather_seats      9895 non-null   int64  \n",
            " 14  Sunroof            9895 non-null   int64  \n",
            " 15  cruise_control     9895 non-null   int64  \n",
            " 16  Bluetooth          9895 non-null   int64  \n",
            "dtypes: float64(2), int64(7), object(8)\n",
            "memory usage: 1.4+ MB\n"
          ]
        }
      ],
      "source": [
        "df.info()"
      ]
    },
    {
      "cell_type": "code",
      "execution_count": 178,
      "metadata": {
        "colab": {
          "base_uri": "https://localhost:8080/",
          "height": 366
        },
        "id": "KtDcY8JBmWAy",
        "outputId": "05070e78-dc0d-46f5-a8c1-a5454d96428f"
      },
      "outputs": [
        {
          "data": {
            "text/plain": [
              "Cylinders\n",
              "6          3420\n",
              "8          3003\n",
              "4          2929\n",
              "12          340\n",
              "3            53\n",
              "5            52\n",
              "Unknown      50\n",
              "10           48\n",
              "Name: count, dtype: int64"
            ]
          },
          "execution_count": 178,
          "metadata": {},
          "output_type": "execute_result"
        }
      ],
      "source": [
        "df[\"Cylinders\"].value_counts()"
      ]
    },
    {
      "cell_type": "code",
      "execution_count": 179,
      "metadata": {
        "id": "kTKS0GQgmWAy"
      },
      "outputs": [],
      "source": [
        "df = df[df[\"Cylinders\"] != \"Unknown\"]"
      ]
    },
    {
      "cell_type": "code",
      "execution_count": 180,
      "metadata": {
        "colab": {
          "base_uri": "https://localhost:8080/",
          "height": 459
        },
        "id": "a48ReEv2mWAy",
        "outputId": "fe8bb325-7cc5-48dd-ce29-455a5a9ba11b"
      },
      "outputs": [
        {
          "data": {
            "text/plain": [
              "Cylinders\n",
              "6     3420\n",
              "8     3003\n",
              "4     2929\n",
              "12     340\n",
              "3       53\n",
              "5       52\n",
              "10      48\n",
              "Name: count, dtype: int64"
            ]
          },
          "execution_count": 180,
          "metadata": {},
          "output_type": "execute_result"
        }
      ],
      "source": [
        "df[\"Cylinders\"] = pd.to_numeric(df[\"Cylinders\"], errors='coerce')\n",
        "\n",
        "df[\"Cylinders\"].value_counts()"
      ]
    },
    {
      "cell_type": "markdown",
      "metadata": {
        "id": "0BNjqaKEmWAy"
      },
      "source": [
        "##### - Encoding"
      ]
    },
    {
      "cell_type": "markdown",
      "metadata": {
        "id": "D-cFXXdrmWAz"
      },
      "source": [
        "split data"
      ]
    },
    {
      "cell_type": "code",
      "execution_count": 181,
      "metadata": {
        "id": "Godf8t-Iadup"
      },
      "outputs": [],
      "source": [
        "df_deleted = df.drop(columns=[\"Body Type\", \"Transmission\", \"Fuel Type\", \"Color\", ])"
      ]
    },
    {
      "cell_type": "code",
      "execution_count": 182,
      "metadata": {
        "colab": {
          "base_uri": "https://localhost:8080/",
          "height": 365
        },
        "id": "dUgA6dg-Z7ph",
        "outputId": "d6c6c7fe-0cc9-49eb-9f8a-ad1fe4524403"
      },
      "outputs": [
        {
          "data": {
            "text/html": [
              "<div>\n",
              "<style scoped>\n",
              "    .dataframe tbody tr th:only-of-type {\n",
              "        vertical-align: middle;\n",
              "    }\n",
              "\n",
              "    .dataframe tbody tr th {\n",
              "        vertical-align: top;\n",
              "    }\n",
              "\n",
              "    .dataframe thead th {\n",
              "        text-align: right;\n",
              "    }\n",
              "</style>\n",
              "<table border=\"1\" class=\"dataframe\">\n",
              "  <thead>\n",
              "    <tr style=\"text-align: right;\">\n",
              "      <th></th>\n",
              "      <th>Make</th>\n",
              "      <th>Model</th>\n",
              "      <th>Year</th>\n",
              "      <th>Price</th>\n",
              "      <th>Mileage</th>\n",
              "      <th>Cylinders</th>\n",
              "      <th>Condition</th>\n",
              "      <th>Rear_camera</th>\n",
              "      <th>Navigation_system</th>\n",
              "      <th>Leather_seats</th>\n",
              "      <th>Sunroof</th>\n",
              "      <th>cruise_control</th>\n",
              "      <th>Bluetooth</th>\n",
              "    </tr>\n",
              "  </thead>\n",
              "  <tbody>\n",
              "    <tr>\n",
              "      <th>0</th>\n",
              "      <td>toyota</td>\n",
              "      <td>camry</td>\n",
              "      <td>2016</td>\n",
              "      <td>48775.38</td>\n",
              "      <td>251861.71000</td>\n",
              "      <td>4</td>\n",
              "      <td>Engine repaired</td>\n",
              "      <td>1</td>\n",
              "      <td>0</td>\n",
              "      <td>1</td>\n",
              "      <td>0</td>\n",
              "      <td>0</td>\n",
              "      <td>0</td>\n",
              "    </tr>\n",
              "    <tr>\n",
              "      <th>1</th>\n",
              "      <td>kia</td>\n",
              "      <td>sorento</td>\n",
              "      <td>2013</td>\n",
              "      <td>62475.00</td>\n",
              "      <td>272852.33162</td>\n",
              "      <td>4</td>\n",
              "      <td>Accident history</td>\n",
              "      <td>1</td>\n",
              "      <td>0</td>\n",
              "      <td>0</td>\n",
              "      <td>1</td>\n",
              "      <td>1</td>\n",
              "      <td>1</td>\n",
              "    </tr>\n",
              "    <tr>\n",
              "      <th>2</th>\n",
              "      <td>mini</td>\n",
              "      <td>cooper</td>\n",
              "      <td>2023</td>\n",
              "      <td>32498.22</td>\n",
              "      <td>356602.38522</td>\n",
              "      <td>4</td>\n",
              "      <td>Engine repaired</td>\n",
              "      <td>1</td>\n",
              "      <td>0</td>\n",
              "      <td>0</td>\n",
              "      <td>1</td>\n",
              "      <td>1</td>\n",
              "      <td>1</td>\n",
              "    </tr>\n",
              "    <tr>\n",
              "      <th>3</th>\n",
              "      <td>nissan</td>\n",
              "      <td>altima</td>\n",
              "      <td>2016</td>\n",
              "      <td>112528.44</td>\n",
              "      <td>112257.90236</td>\n",
              "      <td>4</td>\n",
              "      <td>Minor scratches</td>\n",
              "      <td>1</td>\n",
              "      <td>0</td>\n",
              "      <td>0</td>\n",
              "      <td>0</td>\n",
              "      <td>1</td>\n",
              "      <td>0</td>\n",
              "    </tr>\n",
              "    <tr>\n",
              "      <th>4</th>\n",
              "      <td>toyota</td>\n",
              "      <td>land-cruiser-76-series</td>\n",
              "      <td>2020</td>\n",
              "      <td>142793.88</td>\n",
              "      <td>114905.26666</td>\n",
              "      <td>4</td>\n",
              "      <td>Dented door</td>\n",
              "      <td>1</td>\n",
              "      <td>0</td>\n",
              "      <td>0</td>\n",
              "      <td>0</td>\n",
              "      <td>1</td>\n",
              "      <td>1</td>\n",
              "    </tr>\n",
              "  </tbody>\n",
              "</table>\n",
              "</div>"
            ],
            "text/plain": [
              "     Make                   Model  Year      Price       Mileage  Cylinders  \\\n",
              "0  toyota                   camry  2016   48775.38  251861.71000          4   \n",
              "1     kia                 sorento  2013   62475.00  272852.33162          4   \n",
              "2    mini                  cooper  2023   32498.22  356602.38522          4   \n",
              "3  nissan                  altima  2016  112528.44  112257.90236          4   \n",
              "4  toyota  land-cruiser-76-series  2020  142793.88  114905.26666          4   \n",
              "\n",
              "          Condition  Rear_camera  Navigation_system  Leather_seats  Sunroof  \\\n",
              "0   Engine repaired            1                  0              1        0   \n",
              "1  Accident history            1                  0              0        1   \n",
              "2   Engine repaired            1                  0              0        1   \n",
              "3   Minor scratches            1                  0              0        0   \n",
              "4       Dented door            1                  0              0        0   \n",
              "\n",
              "   cruise_control  Bluetooth  \n",
              "0               0          0  \n",
              "1               1          1  \n",
              "2               1          1  \n",
              "3               1          0  \n",
              "4               1          1  "
            ]
          },
          "execution_count": 182,
          "metadata": {},
          "output_type": "execute_result"
        }
      ],
      "source": [
        "df_deleted.head()"
      ]
    },
    {
      "cell_type": "code",
      "execution_count": null,
      "metadata": {
        "id": "p-Wha2lvbAZ4"
      },
      "outputs": [],
      "source": [
        "from sklearn.preprocessing import LabelEncoder\n",
        "import pickle\n",
        "\n",
        "X = df_deleted.copy()\n",
        "\n",
        "categorical_cols = [\"Model\", \"Make\", \"Condition\"]\n",
        "for col in categorical_cols:\n",
        "    le = LabelEncoder()\n",
        "    X[col] = le.fit_transform(X[col].astype(str))\n",
        "    with open(f\"encoder_{col}.pkl\", \"wb\") as f:\n",
        "        pickle.dump(le, f)\n"
      ]
    },
    {
      "cell_type": "code",
      "execution_count": 184,
      "metadata": {
        "colab": {
          "base_uri": "https://localhost:8080/",
          "height": 243
        },
        "id": "SPXUiKGIbm1h",
        "outputId": "ee689d8f-5384-434f-94fc-9ac5f0f6f63c"
      },
      "outputs": [
        {
          "data": {
            "text/html": [
              "<div>\n",
              "<style scoped>\n",
              "    .dataframe tbody tr th:only-of-type {\n",
              "        vertical-align: middle;\n",
              "    }\n",
              "\n",
              "    .dataframe tbody tr th {\n",
              "        vertical-align: top;\n",
              "    }\n",
              "\n",
              "    .dataframe thead th {\n",
              "        text-align: right;\n",
              "    }\n",
              "</style>\n",
              "<table border=\"1\" class=\"dataframe\">\n",
              "  <thead>\n",
              "    <tr style=\"text-align: right;\">\n",
              "      <th></th>\n",
              "      <th>Make</th>\n",
              "      <th>Model</th>\n",
              "      <th>Year</th>\n",
              "      <th>Price</th>\n",
              "      <th>Mileage</th>\n",
              "      <th>Cylinders</th>\n",
              "      <th>Condition</th>\n",
              "      <th>Rear_camera</th>\n",
              "      <th>Navigation_system</th>\n",
              "      <th>Leather_seats</th>\n",
              "      <th>Sunroof</th>\n",
              "      <th>cruise_control</th>\n",
              "      <th>Bluetooth</th>\n",
              "    </tr>\n",
              "  </thead>\n",
              "  <tbody>\n",
              "    <tr>\n",
              "      <th>0</th>\n",
              "      <td>61</td>\n",
              "      <td>96</td>\n",
              "      <td>2016</td>\n",
              "      <td>48775.38</td>\n",
              "      <td>251861.71000</td>\n",
              "      <td>4</td>\n",
              "      <td>2</td>\n",
              "      <td>1</td>\n",
              "      <td>0</td>\n",
              "      <td>1</td>\n",
              "      <td>0</td>\n",
              "      <td>0</td>\n",
              "      <td>0</td>\n",
              "    </tr>\n",
              "    <tr>\n",
              "      <th>1</th>\n",
              "      <td>30</td>\n",
              "      <td>403</td>\n",
              "      <td>2013</td>\n",
              "      <td>62475.00</td>\n",
              "      <td>272852.33162</td>\n",
              "      <td>4</td>\n",
              "      <td>0</td>\n",
              "      <td>1</td>\n",
              "      <td>0</td>\n",
              "      <td>0</td>\n",
              "      <td>1</td>\n",
              "      <td>1</td>\n",
              "      <td>1</td>\n",
              "    </tr>\n",
              "    <tr>\n",
              "      <th>2</th>\n",
              "      <td>44</td>\n",
              "      <td>125</td>\n",
              "      <td>2023</td>\n",
              "      <td>32498.22</td>\n",
              "      <td>356602.38522</td>\n",
              "      <td>4</td>\n",
              "      <td>2</td>\n",
              "      <td>1</td>\n",
              "      <td>0</td>\n",
              "      <td>0</td>\n",
              "      <td>1</td>\n",
              "      <td>1</td>\n",
              "      <td>1</td>\n",
              "    </tr>\n",
              "    <tr>\n",
              "      <th>3</th>\n",
              "      <td>47</td>\n",
              "      <td>60</td>\n",
              "      <td>2016</td>\n",
              "      <td>112528.44</td>\n",
              "      <td>112257.90236</td>\n",
              "      <td>4</td>\n",
              "      <td>3</td>\n",
              "      <td>1</td>\n",
              "      <td>0</td>\n",
              "      <td>0</td>\n",
              "      <td>0</td>\n",
              "      <td>1</td>\n",
              "      <td>0</td>\n",
              "    </tr>\n",
              "    <tr>\n",
              "      <th>4</th>\n",
              "      <td>61</td>\n",
              "      <td>265</td>\n",
              "      <td>2020</td>\n",
              "      <td>142793.88</td>\n",
              "      <td>114905.26666</td>\n",
              "      <td>4</td>\n",
              "      <td>1</td>\n",
              "      <td>1</td>\n",
              "      <td>0</td>\n",
              "      <td>0</td>\n",
              "      <td>0</td>\n",
              "      <td>1</td>\n",
              "      <td>1</td>\n",
              "    </tr>\n",
              "  </tbody>\n",
              "</table>\n",
              "</div>"
            ],
            "text/plain": [
              "   Make  Model  Year      Price       Mileage  Cylinders  Condition  \\\n",
              "0    61     96  2016   48775.38  251861.71000          4          2   \n",
              "1    30    403  2013   62475.00  272852.33162          4          0   \n",
              "2    44    125  2023   32498.22  356602.38522          4          2   \n",
              "3    47     60  2016  112528.44  112257.90236          4          3   \n",
              "4    61    265  2020  142793.88  114905.26666          4          1   \n",
              "\n",
              "   Rear_camera  Navigation_system  Leather_seats  Sunroof  cruise_control  \\\n",
              "0            1                  0              1        0               0   \n",
              "1            1                  0              0        1               1   \n",
              "2            1                  0              0        1               1   \n",
              "3            1                  0              0        0               1   \n",
              "4            1                  0              0        0               1   \n",
              "\n",
              "   Bluetooth  \n",
              "0          0  \n",
              "1          1  \n",
              "2          1  \n",
              "3          0  \n",
              "4          1  "
            ]
          },
          "execution_count": 184,
          "metadata": {},
          "output_type": "execute_result"
        }
      ],
      "source": [
        "X.head()"
      ]
    },
    {
      "cell_type": "code",
      "execution_count": 209,
      "metadata": {
        "id": "yzD3ebeCmWAz"
      },
      "outputs": [],
      "source": [
        "from sklearn.model_selection import train_test_split\n",
        "\n",
        "y = df_deleted['Price']\n",
        "Xx = X.drop(columns=[\"Price\"])\n",
        "\n",
        "X_train, X_test, y_train, y_test = train_test_split(Xx, y, test_size=0.2, random_state=42)"
      ]
    },
    {
      "cell_type": "markdown",
      "metadata": {
        "id": "fIPuhoZemWAz"
      },
      "source": [
        "Note: Since we used label encoding, we can't use models that consider ordinality."
      ]
    },
    {
      "cell_type": "markdown",
      "metadata": {
        "id": "E1KjsFHomWAz"
      },
      "source": [
        "### MODELING"
      ]
    },
    {
      "cell_type": "code",
      "execution_count": 210,
      "metadata": {
        "id": "YU40mte2mWAz"
      },
      "outputs": [],
      "source": [
        "from sklearn.model_selection import train_test_split\n",
        "from xgboost import XGBRegressor\n",
        "from sklearn import metrics\n"
      ]
    },
    {
      "cell_type": "code",
      "execution_count": 211,
      "metadata": {
        "colab": {
          "base_uri": "https://localhost:8080/"
        },
        "id": "xJxsn57lk5IC",
        "outputId": "09faa2bf-ca2a-4ebc-b260-3d7f2e18242c"
      },
      "outputs": [],
      "source": [
        "# !pip install catboost"
      ]
    },
    {
      "cell_type": "code",
      "execution_count": 212,
      "metadata": {
        "colab": {
          "base_uri": "https://localhost:8080/"
        },
        "id": "E1aZAvU0aVBq",
        "outputId": "5458c78d-be3c-45c8-bd32-e2d72fa7afbb"
      },
      "outputs": [
        {
          "name": "stdout",
          "output_type": "stream",
          "text": [
            "0:\tlearn: 486179.1763777\ttotal: 3.01ms\tremaining: 749ms\n",
            "100:\tlearn: 282752.7492420\ttotal: 258ms\tremaining: 380ms\n",
            "200:\tlearn: 232190.6027714\ttotal: 495ms\tremaining: 121ms\n",
            "249:\tlearn: 216256.4109037\ttotal: 603ms\tremaining: 0us\n"
          ]
        },
        {
          "data": {
            "text/plain": [
              "<catboost.core.CatBoostRegressor at 0x19747905810>"
            ]
          },
          "execution_count": 212,
          "metadata": {},
          "output_type": "execute_result"
        }
      ],
      "source": [
        "from sklearn.model_selection import train_test_split\n",
        "from catboost import CatBoostRegressor\n",
        "from sklearn import metrics\n",
        "\n",
        "model = CatBoostRegressor(\n",
        "    iterations=250,\n",
        "    learning_rate=0.1,\n",
        "    depth=6,\n",
        "    loss_function='RMSE',\n",
        "    random_seed=42,\n",
        "    verbose=100\n",
        ")\n",
        "\n",
        "model.fit(X_train, y_train)\n"
      ]
    },
    {
      "cell_type": "code",
      "execution_count": 213,
      "metadata": {
        "colab": {
          "base_uri": "https://localhost:8080/"
        },
        "id": "GQO9vstpmWA0",
        "outputId": "6ac4207c-0cbb-4e32-aa2d-a918981219fc"
      },
      "outputs": [
        {
          "name": "stdout",
          "output_type": "stream",
          "text": [
            " The R2 score: 0.6489077522685998,\n",
            " Mean Absulate Error: 129063.25380516877,\n",
            " Mean Squared Error: 53591634084.19189,\n",
            " Root Mean Squared Error: 231498.6697244541\n"
          ]
        }
      ],
      "source": [
        "from sklearn import metrics\n",
        "\n",
        "predict = model.predict(X_test)\n",
        "\n",
        "r2 = metrics.r2_score(y_test, predict)\n",
        "MAE = metrics.mean_absolute_error(y_test, predict)\n",
        "MSE = metrics.mean_squared_error(y_test, predict)\n",
        "RMSE = np.sqrt(MSE)\n",
        "\n",
        "print(f' The R2 score: {r2},\\n Mean Absulate Error: {MAE},\\n Mean Squared Error: {MSE},\\n Root Mean Squared Error: {RMSE}')"
      ]
    },
    {
      "cell_type": "code",
      "execution_count": 214,
      "metadata": {},
      "outputs": [
        {
          "data": {
            "text/html": [
              "<div>\n",
              "<style scoped>\n",
              "    .dataframe tbody tr th:only-of-type {\n",
              "        vertical-align: middle;\n",
              "    }\n",
              "\n",
              "    .dataframe tbody tr th {\n",
              "        vertical-align: top;\n",
              "    }\n",
              "\n",
              "    .dataframe thead th {\n",
              "        text-align: right;\n",
              "    }\n",
              "</style>\n",
              "<table border=\"1\" class=\"dataframe\">\n",
              "  <thead>\n",
              "    <tr style=\"text-align: right;\">\n",
              "      <th></th>\n",
              "      <th>Make</th>\n",
              "      <th>Model</th>\n",
              "      <th>Year</th>\n",
              "      <th>Mileage</th>\n",
              "      <th>Cylinders</th>\n",
              "      <th>Condition</th>\n",
              "      <th>Rear_camera</th>\n",
              "      <th>Navigation_system</th>\n",
              "      <th>Leather_seats</th>\n",
              "      <th>Sunroof</th>\n",
              "      <th>cruise_control</th>\n",
              "      <th>Bluetooth</th>\n",
              "    </tr>\n",
              "  </thead>\n",
              "  <tbody>\n",
              "    <tr>\n",
              "      <th>9906</th>\n",
              "      <td>25</td>\n",
              "      <td>347</td>\n",
              "      <td>2009</td>\n",
              "      <td>55388.65478</td>\n",
              "      <td>6</td>\n",
              "      <td>1</td>\n",
              "      <td>1</td>\n",
              "      <td>1</td>\n",
              "      <td>1</td>\n",
              "      <td>1</td>\n",
              "      <td>0</td>\n",
              "      <td>0</td>\n",
              "    </tr>\n",
              "  </tbody>\n",
              "</table>\n",
              "</div>"
            ],
            "text/plain": [
              "      Make  Model  Year      Mileage  Cylinders  Condition  Rear_camera  \\\n",
              "9906    25    347  2009  55388.65478          6          1            1   \n",
              "\n",
              "      Navigation_system  Leather_seats  Sunroof  cruise_control  Bluetooth  \n",
              "9906                  1              1        1               0          0  "
            ]
          },
          "execution_count": 214,
          "metadata": {},
          "output_type": "execute_result"
        }
      ],
      "source": [
        "X_train.head(1)"
      ]
    },
    {
      "cell_type": "code",
      "execution_count": 215,
      "metadata": {
        "colab": {
          "base_uri": "https://localhost:8080/"
        },
        "id": "exfHV0PnmWA0",
        "outputId": "63624dc9-56f1-4add-b848-e57f398ca470"
      },
      "outputs": [
        {
          "name": "stdout",
          "output_type": "stream",
          "text": [
            "Training Set Evaluation Metrics:\n",
            "R² score: 0.8152484599828125\n",
            "Mean Absolute Error: 115147.12283478543\n",
            "Mean Squared Error: 46766835526.43618\n",
            "Root Mean Squared Error: 216256.41152677112\n"
          ]
        }
      ],
      "source": [
        "train_predict = model.predict(X_train)\n",
        "\n",
        "\n",
        "train_r2 = metrics.r2_score(y_train, train_predict)\n",
        "train_MAE = metrics.mean_absolute_error(y_train, train_predict)\n",
        "train_MSE = metrics.mean_squared_error(y_train, train_predict)\n",
        "train_RMSE = np.sqrt(train_MSE)\n",
        "\n",
        "# Print the results\n",
        "print(f'Training Set Evaluation Metrics:')\n",
        "print(f'R² score: {train_r2}')\n",
        "print(f'Mean Absolute Error: {train_MAE}')\n",
        "print(f'Mean Squared Error: {train_MSE}')\n",
        "print(f'Root Mean Squared Error: {train_RMSE}')\n"
      ]
    },
    {
      "cell_type": "code",
      "execution_count": 216,
      "metadata": {
        "colab": {
          "base_uri": "https://localhost:8080/"
        },
        "id": "UcrwtqyrR5Ro",
        "outputId": "45fbb58b-8b4c-439f-d32d-169ab962a263"
      },
      "outputs": [
        {
          "name": "stdout",
          "output_type": "stream",
          "text": [
            "Model saved as 'used_car_price_model.pkl'\n"
          ]
        }
      ],
      "source": [
        "# 📦 Save the trained model\n",
        "import joblib\n",
        "joblib.dump(model, \"used_car_price_model_catboost.pkl\")\n",
        "print(\"Model saved as 'used_car_price_model.pkl'\")"
      ]
    },
    {
      "cell_type": "code",
      "execution_count": 217,
      "metadata": {
        "colab": {
          "base_uri": "https://localhost:8080/",
          "height": 407
        },
        "id": "fu-F6E-2EWuq",
        "outputId": "f3923b5c-8a4f-409e-f7ec-e8204f27bec3"
      },
      "outputs": [
        {
          "data": {
            "image/png": "[encoded data removed]",
            "text/plain": [
              "<Figure size 800x400 with 1 Axes>"
            ]
          },
          "metadata": {},
          "output_type": "display_data"
        }
      ],
      "source": [
        "# 📊 Plot: Real vs Predicted Prices\n",
        "plt.figure(figsize=(8, 4))\n",
        "plt.scatter(y_test, predict, alpha=0.5)\n",
        "plt.xlabel(\"Actual Price (SAR)\")\n",
        "plt.ylabel(\"Predicted Price (SAR)\")\n",
        "plt.title(\"Actual vs Predicted Car Prices\")\n",
        "plt.plot([y_test.min(), y_test.max()], [y_test.min(), y_test.max()], color='red', linestyle='--')  # reference line\n",
        "plt.grid(True)\n",
        "plt.tight_layout()\n",
        "plt.show()\n"
      ]
    },
    {
      "cell_type": "code",
      "execution_count": 218,
      "metadata": {
        "colab": {
          "base_uri": "https://localhost:8080/",
          "height": 391
        },
        "id": "IRdNSGp5TA8q",
        "outputId": "c17a4c62-385d-4836-d4c2-355057f120a2"
      },
      "outputs": [
        {
          "data": {
            "image/png": "[encoded data removed]",
            "text/plain": [
              "<Figure size 800x400 with 2 Axes>"
            ]
          },
          "metadata": {},
          "output_type": "display_data"
        }
      ],
      "source": [
        "train_pred = model.predict(X_train)\n",
        "test_pred = model.predict(X_test)\n",
        "\n",
        "plt.figure(figsize=(8, 4))\n",
        "\n",
        "plt.subplot(1, 2, 1)\n",
        "plt.scatter(y_train, train_pred, alpha=0.5, color='blue')\n",
        "plt.plot([y_train.min(), y_train.max()], [y_train.min(), y_train.max()], 'r--')\n",
        "plt.xlabel(\"Actual Price (SAR)\")\n",
        "plt.ylabel(\"Predicted Price (SAR)\")\n",
        "plt.title(\"Training Set: Actual vs Predicted\")\n",
        "\n",
        "plt.subplot(1, 2, 2)\n",
        "plt.scatter(y_test, test_pred, alpha=0.5, color='green')\n",
        "plt.plot([y_test.min(), y_test.max()], [y_test.min(), y_test.max()], 'r--')\n",
        "plt.xlabel(\"Actual Price (SAR)\")\n",
        "plt.ylabel(\"Predicted Price (SAR)\")\n",
        "plt.title(\"Testing Set: Actual vs Predicted\")\n",
        "\n",
        "plt.tight_layout()\n",
        "plt.show()"
      ]
    },
    {
      "cell_type": "code",
      "execution_count": null,
      "metadata": {
        "id": "StyNjIRehp5N"
      },
      "outputs": [],
      "source": []
    }
  ],
  "metadata": {
    "colab": {
      "provenance": []
    },
    "kernelspec": {
      "display_name": "Python 3.11.4 64-bit",
      "language": "python",
      "name": "python3"
    },
    "language_info": {
      "codemirror_mode": {
        "name": "ipython",
        "version": 3
      },
      "file_extension": ".py",
      "mimetype": "text/x-python",
      "name": "python",
      "nbconvert_exporter": "python",
      "pygments_lexer": "ipython3",
      "version": "3.11.4"
    },
    "orig_nbformat": 4,
    "vscode": {
      "interpreter": {
        "hash": "cde4f31ee23074c3dc05587d272893aeb17ea8f8c93d9ce1b717deae1578172a"
      }
    }
  },
  "nbformat": 4,
  "nbformat_minor": 0
}
